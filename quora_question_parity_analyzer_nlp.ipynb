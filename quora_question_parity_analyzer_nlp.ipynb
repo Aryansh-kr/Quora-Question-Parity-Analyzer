{
  "metadata": {
    "kernelspec": {
      "language": "python",
      "display_name": "Python 3",
      "name": "python3"
    },
    "language_info": {
      "name": "python",
      "version": "3.10.12",
      "mimetype": "text/x-python",
      "codemirror_mode": {
        "name": "ipython",
        "version": 3
      },
      "pygments_lexer": "ipython3",
      "nbconvert_exporter": "python",
      "file_extension": ".py"
    },
    "kaggle": {
      "accelerator": "none",
      "dataSources": [
        {
          "sourceId": 6277,
          "databundleVersionId": 323734,
          "sourceType": "competition"
        },
        {
          "sourceId": 6588647,
          "sourceType": "datasetVersion",
          "datasetId": 3803030
        }
      ],
      "dockerImageVersionId": 30558,
      "isInternetEnabled": true,
      "language": "python",
      "sourceType": "notebook",
      "isGpuEnabled": false
    },
    "colab": {
      "provenance": []
    }
  },
  "nbformat_minor": 0,
  "nbformat": 4,
  "cells": [
    {
      "cell_type": "markdown",
      "source": [
        "\n",
        "\n",
        "\n",
        "#### 1. `TEXT PRE PROCESSING` - TOKENIZATION, STOP WORDS REMOVAL, STEMMING.\n",
        "#### 2. MAKING WORD VECTORS WITH `WORD2VEC`.\n",
        "#### 3. CONVERTING COLUMNS TO `VECTORS`.\n",
        "#### 4. GENERATING `CUSTOM FEATURES`.\n",
        "#### 5. PERFORMING `OVERSAMPLING` DUE TO CLASS IMBALANCE.\n",
        "#### 6. TRAINING `RANDOM FOREST CLASSIFIER`, `XG BOOST CLASSIFIER`, `RNN` AND `LSTM` MODELS.\n",
        "#### 7. PERFORMANCE ANALYSIS\n",
        "#### 8. `INFERENCE` ON TEST"
      ],
      "metadata": {
        "id": "lrKlnAWiqlOd"
      }
    },
    {
      "cell_type": "code",
      "source": [
        "import numpy as np\n",
        "import pandas as pd\n",
        "import matplotlib.pyplot as plt\n",
        "import seaborn as sns\n",
        "from tqdm import tqdm\n",
        "import os\n",
        "import zipfile"
      ],
      "metadata": {
        "execution": {
          "iopub.status.busy": "2024-07-13T12:29:25.081997Z",
          "iopub.execute_input": "2024-07-13T12:29:25.082429Z",
          "iopub.status.idle": "2024-07-13T12:29:27.432021Z",
          "shell.execute_reply.started": "2024-07-13T12:29:25.082391Z",
          "shell.execute_reply": "2024-07-13T12:29:27.430711Z"
        },
        "trusted": true,
        "id": "2FYB0afDqlOf"
      },
      "execution_count": null,
      "outputs": []
    },
    {
      "cell_type": "code",
      "source": [
        "import gensim\n",
        "from gensim.models import Word2Vec,KeyedVectors\n",
        "from nltk import sent_tokenize\n",
        "from gensim.utils import simple_preprocess"
      ],
      "metadata": {
        "execution": {
          "iopub.status.busy": "2024-07-13T12:29:27.434623Z",
          "iopub.execute_input": "2024-07-13T12:29:27.435315Z",
          "iopub.status.idle": "2024-07-13T12:29:42.728396Z",
          "shell.execute_reply.started": "2024-07-13T12:29:27.435256Z",
          "shell.execute_reply": "2024-07-13T12:29:42.726903Z"
        },
        "trusted": true,
        "id": "AazylVtSqlOg"
      },
      "execution_count": null,
      "outputs": []
    },
    {
      "cell_type": "markdown",
      "source": [
        "## EXTRACTING DATA"
      ],
      "metadata": {
        "id": "CjELu8x_qlOg"
      }
    },
    {
      "cell_type": "code",
      "source": [
        "zip_files = ['/kaggle/input/quora-question-pairs/train.csv.zip',\n",
        "             '/kaggle/input/quora-question-pairs/test.csv.zip',\n",
        "             '/kaggle/input/quora-question-pairs/sample_submission.csv.zip']\n",
        "\n",
        "destination_directory = '/kaggle/working/'\n",
        "\n",
        "for zip_file in zip_files:\n",
        "    with zipfile.ZipFile(zip_file, 'r') as zip_ref:\n",
        "        zip_ref.extractall(destination_directory)\n",
        "\n",
        "print(\"Extraction completed.\")"
      ],
      "metadata": {
        "execution": {
          "iopub.status.busy": "2024-07-13T12:29:42.730202Z",
          "iopub.execute_input": "2024-07-13T12:29:42.730843Z",
          "iopub.status.idle": "2024-07-13T12:29:49.371258Z",
          "shell.execute_reply.started": "2024-07-13T12:29:42.730799Z",
          "shell.execute_reply": "2024-07-13T12:29:49.369897Z"
        },
        "trusted": true,
        "id": "91huVP3MqlOh",
        "outputId": "77f5f4eb-6295-42d2-ef8b-8a71cd38b3fd"
      },
      "execution_count": null,
      "outputs": [
        {
          "name": "stdout",
          "text": "Extraction completed.\n",
          "output_type": "stream"
        }
      ]
    },
    {
      "cell_type": "code",
      "source": [
        "data = pd.read_csv(\"/kaggle/working/train.csv\")\n",
        "data"
      ],
      "metadata": {
        "execution": {
          "iopub.status.busy": "2024-07-13T12:29:49.374500Z",
          "iopub.execute_input": "2024-07-13T12:29:49.374964Z",
          "iopub.status.idle": "2024-07-13T12:29:51.055255Z",
          "shell.execute_reply.started": "2024-07-13T12:29:49.374923Z",
          "shell.execute_reply": "2024-07-13T12:29:51.053707Z"
        },
        "trusted": true,
        "id": "VwdXiJbmqlOh",
        "outputId": "0f388c3d-e5bf-41cc-8dd3-4254d92866d9"
      },
      "execution_count": null,
      "outputs": [
        {
          "execution_count": 4,
          "output_type": "execute_result",
          "data": {
            "text/plain": "            id    qid1    qid2  \\\n0            0       1       2   \n1            1       3       4   \n2            2       5       6   \n3            3       7       8   \n4            4       9      10   \n...        ...     ...     ...   \n404285  404285  433578  379845   \n404286  404286   18840  155606   \n404287  404287  537928  537929   \n404288  404288  537930  537931   \n404289  404289  537932  537933   \n\n                                                question1  \\\n0       What is the step by step guide to invest in sh...   \n1       What is the story of Kohinoor (Koh-i-Noor) Dia...   \n2       How can I increase the speed of my internet co...   \n3       Why am I mentally very lonely? How can I solve...   \n4       Which one dissolve in water quikly sugar, salt...   \n...                                                   ...   \n404285  How many keywords are there in the Racket prog...   \n404286          Do you believe there is life after death?   \n404287                                  What is one coin?   \n404288  What is the approx annual cost of living while...   \n404289              What is like to have sex with cousin?   \n\n                                                question2  is_duplicate  \n0       What is the step by step guide to invest in sh...             0  \n1       What would happen if the Indian government sto...             0  \n2       How can Internet speed be increased by hacking...             0  \n3       Find the remainder when [math]23^{24}[/math] i...             0  \n4                 Which fish would survive in salt water?             0  \n...                                                   ...           ...  \n404285  How many keywords are there in PERL Programmin...             0  \n404286         Is it true that there is life after death?             1  \n404287                                  What's this coin?             0  \n404288  I am having little hairfall problem but I want...             0  \n404289      What is it like to have sex with your cousin?             0  \n\n[404290 rows x 6 columns]",
            "text/html": "<div>\n<style scoped>\n    .dataframe tbody tr th:only-of-type {\n        vertical-align: middle;\n    }\n\n    .dataframe tbody tr th {\n        vertical-align: top;\n    }\n\n    .dataframe thead th {\n        text-align: right;\n    }\n</style>\n<table border=\"1\" class=\"dataframe\">\n  <thead>\n    <tr style=\"text-align: right;\">\n      <th></th>\n      <th>id</th>\n      <th>qid1</th>\n      <th>qid2</th>\n      <th>question1</th>\n      <th>question2</th>\n      <th>is_duplicate</th>\n    </tr>\n  </thead>\n  <tbody>\n    <tr>\n      <th>0</th>\n      <td>0</td>\n      <td>1</td>\n      <td>2</td>\n      <td>What is the step by step guide to invest in sh...</td>\n      <td>What is the step by step guide to invest in sh...</td>\n      <td>0</td>\n    </tr>\n    <tr>\n      <th>1</th>\n      <td>1</td>\n      <td>3</td>\n      <td>4</td>\n      <td>What is the story of Kohinoor (Koh-i-Noor) Dia...</td>\n      <td>What would happen if the Indian government sto...</td>\n      <td>0</td>\n    </tr>\n    <tr>\n      <th>2</th>\n      <td>2</td>\n      <td>5</td>\n      <td>6</td>\n      <td>How can I increase the speed of my internet co...</td>\n      <td>How can Internet speed be increased by hacking...</td>\n      <td>0</td>\n    </tr>\n    <tr>\n      <th>3</th>\n      <td>3</td>\n      <td>7</td>\n      <td>8</td>\n      <td>Why am I mentally very lonely? How can I solve...</td>\n      <td>Find the remainder when [math]23^{24}[/math] i...</td>\n      <td>0</td>\n    </tr>\n    <tr>\n      <th>4</th>\n      <td>4</td>\n      <td>9</td>\n      <td>10</td>\n      <td>Which one dissolve in water quikly sugar, salt...</td>\n      <td>Which fish would survive in salt water?</td>\n      <td>0</td>\n    </tr>\n    <tr>\n      <th>...</th>\n      <td>...</td>\n      <td>...</td>\n      <td>...</td>\n      <td>...</td>\n      <td>...</td>\n      <td>...</td>\n    </tr>\n    <tr>\n      <th>404285</th>\n      <td>404285</td>\n      <td>433578</td>\n      <td>379845</td>\n      <td>How many keywords are there in the Racket prog...</td>\n      <td>How many keywords are there in PERL Programmin...</td>\n      <td>0</td>\n    </tr>\n    <tr>\n      <th>404286</th>\n      <td>404286</td>\n      <td>18840</td>\n      <td>155606</td>\n      <td>Do you believe there is life after death?</td>\n      <td>Is it true that there is life after death?</td>\n      <td>1</td>\n    </tr>\n    <tr>\n      <th>404287</th>\n      <td>404287</td>\n      <td>537928</td>\n      <td>537929</td>\n      <td>What is one coin?</td>\n      <td>What's this coin?</td>\n      <td>0</td>\n    </tr>\n    <tr>\n      <th>404288</th>\n      <td>404288</td>\n      <td>537930</td>\n      <td>537931</td>\n      <td>What is the approx annual cost of living while...</td>\n      <td>I am having little hairfall problem but I want...</td>\n      <td>0</td>\n    </tr>\n    <tr>\n      <th>404289</th>\n      <td>404289</td>\n      <td>537932</td>\n      <td>537933</td>\n      <td>What is like to have sex with cousin?</td>\n      <td>What is it like to have sex with your cousin?</td>\n      <td>0</td>\n    </tr>\n  </tbody>\n</table>\n<p>404290 rows × 6 columns</p>\n</div>"
          },
          "metadata": {}
        }
      ]
    },
    {
      "cell_type": "code",
      "source": [
        "data[\"is_duplicate\"].value_counts()"
      ],
      "metadata": {
        "execution": {
          "iopub.status.busy": "2024-07-13T12:29:51.056828Z",
          "iopub.execute_input": "2024-07-13T12:29:51.057312Z",
          "iopub.status.idle": "2024-07-13T12:29:51.080850Z",
          "shell.execute_reply.started": "2024-07-13T12:29:51.057256Z",
          "shell.execute_reply": "2024-07-13T12:29:51.076035Z"
        },
        "trusted": true,
        "id": "mrzvlrPTqlOi",
        "outputId": "0dbb258d-6734-4d1b-bb8f-727cb2069f85"
      },
      "execution_count": null,
      "outputs": [
        {
          "execution_count": 5,
          "output_type": "execute_result",
          "data": {
            "text/plain": "is_duplicate\n0    255027\n1    149263\nName: count, dtype: int64"
          },
          "metadata": {}
        }
      ]
    },
    {
      "cell_type": "code",
      "source": [
        "data.dropna(inplace = True)"
      ],
      "metadata": {
        "execution": {
          "iopub.status.busy": "2024-07-13T12:29:51.082866Z",
          "iopub.execute_input": "2024-07-13T12:29:51.083694Z",
          "iopub.status.idle": "2024-07-13T12:29:51.246742Z",
          "shell.execute_reply.started": "2024-07-13T12:29:51.083643Z",
          "shell.execute_reply": "2024-07-13T12:29:51.245509Z"
        },
        "trusted": true,
        "id": "cr4ISi5jqlOi"
      },
      "execution_count": null,
      "outputs": []
    },
    {
      "cell_type": "markdown",
      "source": [
        "## MAKING CORPUS AND CLEANING THE TEXT"
      ],
      "metadata": {
        "id": "M5zcqeCcqlOi"
      }
    },
    {
      "cell_type": "code",
      "source": [
        "corpus = data['question1'].tolist() + data['question2'].tolist()\n",
        "\n",
        "story = []\n",
        "for sent in tqdm(corpus):\n",
        "    story.append(simple_preprocess(sent))"
      ],
      "metadata": {
        "execution": {
          "iopub.status.busy": "2024-07-13T12:29:51.248291Z",
          "iopub.execute_input": "2024-07-13T12:29:51.248723Z",
          "iopub.status.idle": "2024-07-13T12:30:21.767409Z",
          "shell.execute_reply.started": "2024-07-13T12:29:51.248684Z",
          "shell.execute_reply": "2024-07-13T12:30:21.766094Z"
        },
        "trusted": true,
        "id": "89iu7G7lqlOj",
        "outputId": "77180751-ac07-4a20-9e16-71a404cc4640"
      },
      "execution_count": null,
      "outputs": [
        {
          "name": "stderr",
          "text": "100%|██████████| 808574/808574 [00:30<00:00, 26538.81it/s]\n",
          "output_type": "stream"
        }
      ]
    },
    {
      "cell_type": "code",
      "source": [
        "import nltk\n",
        "from nltk.stem import PorterStemmer\n",
        "from nltk.corpus import stopwords\n",
        "nltk.download(\"stopwords\")\n",
        "\n",
        "stemmer = PorterStemmer()\n",
        "def process_word_list(word_list):\n",
        "    meaningful_words = [\n",
        "        stemmer.stem(word)  # Apply stemming\n",
        "        for word in word_list\n",
        "        if word.lower() not in stopwords.words(\"english\")  # Remove stopwords\n",
        "    ]\n",
        "    return meaningful_words\n",
        "\n",
        "cleaned_story = [process_word_list(sublist) for sublist in tqdm(story)]"
      ],
      "metadata": {
        "execution": {
          "iopub.status.busy": "2024-07-13T12:30:21.768996Z",
          "iopub.execute_input": "2024-07-13T12:30:21.769408Z",
          "iopub.status.idle": "2024-07-13T12:55:01.517276Z",
          "shell.execute_reply.started": "2024-07-13T12:30:21.769373Z",
          "shell.execute_reply": "2024-07-13T12:55:01.515943Z"
        },
        "trusted": true,
        "id": "Y8IgGFWjqlOj",
        "outputId": "2d48b2bb-8717-41b6-cd5f-c277d3c13f03"
      },
      "execution_count": null,
      "outputs": [
        {
          "name": "stdout",
          "text": "[nltk_data] Downloading package stopwords to /usr/share/nltk_data...\n[nltk_data]   Package stopwords is already up-to-date!\n",
          "output_type": "stream"
        },
        {
          "name": "stderr",
          "text": "100%|██████████| 808574/808574 [24:39<00:00, 546.46it/s] \n",
          "output_type": "stream"
        }
      ]
    },
    {
      "cell_type": "markdown",
      "source": [
        "## WORD2VEC\n"
      ],
      "metadata": {
        "id": "xJWWW8R1qlOj"
      }
    },
    {
      "cell_type": "code",
      "source": [
        "word2vec_model = gensim.models.Word2Vec(window = 5, min_count = 2, vector_size=30)\n",
        "word2vec_model.build_vocab(cleaned_story)\n",
        "word2vec_model.train(cleaned_story,\n",
        "            total_examples = word2vec_model.corpus_count,\n",
        "            epochs = word2vec_model.epochs)"
      ],
      "metadata": {
        "execution": {
          "iopub.status.busy": "2024-07-13T12:55:01.518788Z",
          "iopub.execute_input": "2024-07-13T12:55:01.519145Z",
          "iopub.status.idle": "2024-07-13T12:55:35.836636Z",
          "shell.execute_reply.started": "2024-07-13T12:55:01.519112Z",
          "shell.execute_reply": "2024-07-13T12:55:35.835435Z"
        },
        "trusted": true,
        "id": "BuEFJqloqlOk",
        "outputId": "fdf166e3-2fd0-4a41-b7e1-818d76f6d69f"
      },
      "execution_count": null,
      "outputs": [
        {
          "execution_count": 9,
          "output_type": "execute_result",
          "data": {
            "text/plain": "(20498405, 21715385)"
          },
          "metadata": {}
        }
      ]
    },
    {
      "cell_type": "code",
      "source": [
        "data[\"Ques1_Cleaned\"] = cleaned_story[:len(data)]\n",
        "data[\"Ques2_Cleaned\"] = cleaned_story[len(data):]"
      ],
      "metadata": {
        "execution": {
          "iopub.status.busy": "2024-07-13T12:55:35.841130Z",
          "iopub.execute_input": "2024-07-13T12:55:35.841556Z",
          "iopub.status.idle": "2024-07-13T12:55:36.131608Z",
          "shell.execute_reply.started": "2024-07-13T12:55:35.841521Z",
          "shell.execute_reply": "2024-07-13T12:55:36.130509Z"
        },
        "trusted": true,
        "id": "Tf_TQbAMqlOk"
      },
      "execution_count": null,
      "outputs": []
    },
    {
      "cell_type": "code",
      "source": [
        "sample_data = data.copy() # INITIALLY USED FOR TAKING SAMPLES OUT OF MAIN DATA\n",
        "sample_data.reset_index(inplace = True, drop = True)"
      ],
      "metadata": {
        "execution": {
          "iopub.status.busy": "2024-07-13T12:55:36.132903Z",
          "iopub.execute_input": "2024-07-13T12:55:36.133314Z",
          "iopub.status.idle": "2024-07-13T12:55:36.307490Z",
          "shell.execute_reply.started": "2024-07-13T12:55:36.133271Z",
          "shell.execute_reply": "2024-07-13T12:55:36.306119Z"
        },
        "trusted": true,
        "id": "f8u98mCMqlOk"
      },
      "execution_count": null,
      "outputs": []
    },
    {
      "cell_type": "markdown",
      "source": [
        "## GENERATING CUSTOM FEATURES USING TEXT BLOB\n",
        "* AVG WORD LENGTH\n",
        "* WORD COUNT\n",
        "* AVG SENTENCE LENGTH\n",
        "* FOG INDEX\n",
        "* COMPLEX WORD COUNT"
      ],
      "metadata": {
        "id": "pHS6-TNEqlOk"
      }
    },
    {
      "cell_type": "code",
      "source": [
        "from textblob import TextBlob\n",
        "\n",
        "def text_analysis(word_list):\n",
        "    # Join the list of words into a text string\n",
        "    text = \" \".join(word_list)\n",
        "\n",
        "    # Create a TextBlob object\n",
        "    blob = TextBlob(text)\n",
        "\n",
        "    # Sentiment Analysis\n",
        "    polarity_score = blob.sentiment.polarity\n",
        "    subjectivity_score = blob.sentiment.subjectivity\n",
        "\n",
        "    # Word Metrics\n",
        "    word_count = len(word_list)\n",
        "    average_word_length = sum(len(word) for word in word_list) / word_count\n",
        "\n",
        "    # Sentence Metrics\n",
        "    sentence_count = len(blob.sentences)\n",
        "    average_sentence_length = word_count / sentence_count\n",
        "\n",
        "    # FOG Index\n",
        "    complex_word_count = len([word for word in word_list if len(word) > 3])\n",
        "    fog_index = 0.4 * (average_sentence_length + complex_word_count / word_count)\n",
        "\n",
        "    return np.array([average_word_length, word_count, average_sentence_length, fog_index, complex_word_count])"
      ],
      "metadata": {
        "execution": {
          "iopub.status.busy": "2024-07-13T12:55:36.308999Z",
          "iopub.execute_input": "2024-07-13T12:55:36.309507Z",
          "iopub.status.idle": "2024-07-13T12:55:36.386967Z",
          "shell.execute_reply.started": "2024-07-13T12:55:36.309462Z",
          "shell.execute_reply": "2024-07-13T12:55:36.385653Z"
        },
        "trusted": true,
        "id": "BZNRLioLqlOl"
      },
      "execution_count": null,
      "outputs": []
    },
    {
      "cell_type": "markdown",
      "source": [
        "## CONVERTING TEXT COLUMN INTO VECTORS"
      ],
      "metadata": {
        "id": "mLZD7FsHqlOl"
      }
    },
    {
      "cell_type": "code",
      "source": [
        "vec1 = np.zeros((len(sample_data), 30))\n",
        "vec2 = np.zeros((len(sample_data), 30))\n",
        "other_features = np.zeros((len(sample_data), 10))\n",
        "\n",
        "for i in tqdm(range(len(sample_data))):\n",
        "\n",
        "    text1 = sample_data[\"Ques1_Cleaned\"][i]\n",
        "    text2 = sample_data[\"Ques2_Cleaned\"][i]\n",
        "\n",
        "    if len(text1) != 0:\n",
        "        vec1[i] = (sum([word2vec_model.wv[word] for word in text1 if word in word2vec_model.wv.index_to_key]) / len(text1))\n",
        "        blob1 = text_analysis(text1)\n",
        "    else:\n",
        "        vec1[i] = np.zeros((30,))\n",
        "        blob1 = np.zeros((5,))\n",
        "    if len(text2) != 0:\n",
        "        vec2[i] = (sum([word2vec_model.wv[word] for word in text2 if word in word2vec_model.wv.index_to_key]) / len(text2))\n",
        "        blob2 = text_analysis(text2)\n",
        "    else:\n",
        "        vec2i = np.zeros((30,))\n",
        "        blob2 = np.zeros((5,))\n",
        "    other_features[i] = np.concatenate([blob1, blob2])"
      ],
      "metadata": {
        "execution": {
          "iopub.status.busy": "2024-07-13T12:55:36.388426Z",
          "iopub.execute_input": "2024-07-13T12:55:36.388823Z",
          "iopub.status.idle": "2024-07-13T13:07:35.353544Z",
          "shell.execute_reply.started": "2024-07-13T12:55:36.388789Z",
          "shell.execute_reply": "2024-07-13T13:07:35.352267Z"
        },
        "trusted": true,
        "id": "GPUjxzu_qlOl",
        "outputId": "d5dcecdd-881c-4734-80e9-dbd313ce2d53"
      },
      "execution_count": null,
      "outputs": [
        {
          "name": "stderr",
          "text": "100%|██████████| 404287/404287 [11:58<00:00, 562.33it/s]\n",
          "output_type": "stream"
        }
      ]
    },
    {
      "cell_type": "code",
      "source": [
        "sample_data = pd.concat([sample_data,\n",
        "                        pd.DataFrame(vec1, columns = np.arange(0, 30)),\n",
        "                        pd.DataFrame(vec2, columns = np.arange(30, 60)),\n",
        "                        pd.DataFrame(other_features, columns = np.arange(60, 70))], axis = 1)\n",
        "sample_data"
      ],
      "metadata": {
        "execution": {
          "iopub.status.busy": "2024-07-13T13:07:35.355043Z",
          "iopub.execute_input": "2024-07-13T13:07:35.355439Z",
          "iopub.status.idle": "2024-07-13T13:07:36.299601Z",
          "shell.execute_reply.started": "2024-07-13T13:07:35.355406Z",
          "shell.execute_reply": "2024-07-13T13:07:36.298353Z"
        },
        "trusted": true,
        "id": "dhy8_fe3qlOl",
        "outputId": "36d34ada-6733-497e-e719-91c65e86f709"
      },
      "execution_count": null,
      "outputs": [
        {
          "execution_count": 14,
          "output_type": "execute_result",
          "data": {
            "text/plain": "            id    qid1    qid2  \\\n0            0       1       2   \n1            1       3       4   \n2            2       5       6   \n3            3       7       8   \n4            4       9      10   \n...        ...     ...     ...   \n404282  404285  433578  379845   \n404283  404286   18840  155606   \n404284  404287  537928  537929   \n404285  404288  537930  537931   \n404286  404289  537932  537933   \n\n                                                question1  \\\n0       What is the step by step guide to invest in sh...   \n1       What is the story of Kohinoor (Koh-i-Noor) Dia...   \n2       How can I increase the speed of my internet co...   \n3       Why am I mentally very lonely? How can I solve...   \n4       Which one dissolve in water quikly sugar, salt...   \n...                                                   ...   \n404282  How many keywords are there in the Racket prog...   \n404283          Do you believe there is life after death?   \n404284                                  What is one coin?   \n404285  What is the approx annual cost of living while...   \n404286              What is like to have sex with cousin?   \n\n                                                question2  is_duplicate  \\\n0       What is the step by step guide to invest in sh...             0   \n1       What would happen if the Indian government sto...             0   \n2       How can Internet speed be increased by hacking...             0   \n3       Find the remainder when [math]23^{24}[/math] i...             0   \n4                 Which fish would survive in salt water?             0   \n...                                                   ...           ...   \n404282  How many keywords are there in PERL Programmin...             0   \n404283         Is it true that there is life after death?             1   \n404284                                  What's this coin?             0   \n404285  I am having little hairfall problem but I want...             0   \n404286      What is it like to have sex with your cousin?             0   \n\n                                            Ques1_Cleaned  \\\n0        [step, step, guid, invest, share, market, india]   \n1                   [stori, kohinoor, koh, noor, diamond]   \n2           [increas, speed, internet, connect, use, vpn]   \n3                                    [mental, lone, solv]   \n4       [one, dissolv, water, quikli, sugar, salt, met...   \n...                                                   ...   \n404282  [mani, keyword, racket, program, languag, late...   \n404283                              [believ, life, death]   \n404284                                        [one, coin]   \n404285  [approx, annual, cost, live, studi, uic, chica...   \n404286                                [like, sex, cousin]   \n\n                                            Ques2_Cleaned         0         1  \\\n0               [step, step, guid, invest, share, market] -1.404709 -0.939719   \n1       [would, happen, indian, govern, stole, kohinoo... -0.116453 -0.505728   \n2                    [internet, speed, increas, hack, dn] -0.291087 -0.701349   \n3                      [find, remaind, math, math, divid]  0.976941 -2.259914   \n4                      [fish, would, surviv, salt, water]  0.216572 -0.344723   \n...                                                   ...       ...       ...   \n404282  [mani, keyword, perl, program, languag, latest...  0.205543  1.352938   \n404283                                [true, life, death]  2.408487 -2.919700   \n404284                                             [coin]  1.306625 -0.745744   \n404285  [littl, hairfal, problem, want, use, hair, sty... -0.014881 -0.115936   \n404286                                [like, sex, cousin] -0.234911 -0.378441   \n\n        ...        60    61    62        63   64        65    66    67  \\\n0       ...  4.857143   7.0   7.0  3.200000  7.0  4.833333   6.0   6.0   \n1       ...  5.400000   5.0   5.0  2.320000  4.0  5.400000  10.0  10.0   \n2       ...  5.500000   6.0   6.0  2.666667  4.0  5.200000   5.0   5.0   \n3       ...  4.666667   3.0   3.0  1.600000  3.0  4.800000   5.0   5.0   \n4       ...  4.800000  10.0  10.0  4.320000  8.0  4.800000   5.0   5.0   \n...     ...       ...   ...   ...       ...  ...       ...   ...   ...   \n404282  ...  6.285714   7.0   7.0  3.200000  7.0  6.000000   7.0   7.0   \n404283  ...  5.000000   3.0   3.0  1.600000  3.0  4.333333   3.0   3.0   \n404284  ...  3.500000   2.0   2.0  1.000000  1.0  4.000000   1.0   1.0   \n404285  ...  5.333333   9.0   9.0  3.955556  8.0  4.692308  13.0  13.0   \n404286  ...  4.333333   3.0   3.0  1.466667  2.0  4.333333   3.0   3.0   \n\n              68   69  \n0       2.800000  6.0  \n1       4.360000  9.0  \n2       2.320000  4.0  \n3       2.400000  5.0  \n4       2.400000  5.0  \n...          ...  ...  \n404282  3.200000  7.0  \n404283  1.600000  3.0  \n404284  0.800000  1.0  \n404285  5.476923  9.0  \n404286  1.466667  2.0  \n\n[404287 rows x 78 columns]",
            "text/html": "<div>\n<style scoped>\n    .dataframe tbody tr th:only-of-type {\n        vertical-align: middle;\n    }\n\n    .dataframe tbody tr th {\n        vertical-align: top;\n    }\n\n    .dataframe thead th {\n        text-align: right;\n    }\n</style>\n<table border=\"1\" class=\"dataframe\">\n  <thead>\n    <tr style=\"text-align: right;\">\n      <th></th>\n      <th>id</th>\n      <th>qid1</th>\n      <th>qid2</th>\n      <th>question1</th>\n      <th>question2</th>\n      <th>is_duplicate</th>\n      <th>Ques1_Cleaned</th>\n      <th>Ques2_Cleaned</th>\n      <th>0</th>\n      <th>1</th>\n      <th>...</th>\n      <th>60</th>\n      <th>61</th>\n      <th>62</th>\n      <th>63</th>\n      <th>64</th>\n      <th>65</th>\n      <th>66</th>\n      <th>67</th>\n      <th>68</th>\n      <th>69</th>\n    </tr>\n  </thead>\n  <tbody>\n    <tr>\n      <th>0</th>\n      <td>0</td>\n      <td>1</td>\n      <td>2</td>\n      <td>What is the step by step guide to invest in sh...</td>\n      <td>What is the step by step guide to invest in sh...</td>\n      <td>0</td>\n      <td>[step, step, guid, invest, share, market, india]</td>\n      <td>[step, step, guid, invest, share, market]</td>\n      <td>-1.404709</td>\n      <td>-0.939719</td>\n      <td>...</td>\n      <td>4.857143</td>\n      <td>7.0</td>\n      <td>7.0</td>\n      <td>3.200000</td>\n      <td>7.0</td>\n      <td>4.833333</td>\n      <td>6.0</td>\n      <td>6.0</td>\n      <td>2.800000</td>\n      <td>6.0</td>\n    </tr>\n    <tr>\n      <th>1</th>\n      <td>1</td>\n      <td>3</td>\n      <td>4</td>\n      <td>What is the story of Kohinoor (Koh-i-Noor) Dia...</td>\n      <td>What would happen if the Indian government sto...</td>\n      <td>0</td>\n      <td>[stori, kohinoor, koh, noor, diamond]</td>\n      <td>[would, happen, indian, govern, stole, kohinoo...</td>\n      <td>-0.116453</td>\n      <td>-0.505728</td>\n      <td>...</td>\n      <td>5.400000</td>\n      <td>5.0</td>\n      <td>5.0</td>\n      <td>2.320000</td>\n      <td>4.0</td>\n      <td>5.400000</td>\n      <td>10.0</td>\n      <td>10.0</td>\n      <td>4.360000</td>\n      <td>9.0</td>\n    </tr>\n    <tr>\n      <th>2</th>\n      <td>2</td>\n      <td>5</td>\n      <td>6</td>\n      <td>How can I increase the speed of my internet co...</td>\n      <td>How can Internet speed be increased by hacking...</td>\n      <td>0</td>\n      <td>[increas, speed, internet, connect, use, vpn]</td>\n      <td>[internet, speed, increas, hack, dn]</td>\n      <td>-0.291087</td>\n      <td>-0.701349</td>\n      <td>...</td>\n      <td>5.500000</td>\n      <td>6.0</td>\n      <td>6.0</td>\n      <td>2.666667</td>\n      <td>4.0</td>\n      <td>5.200000</td>\n      <td>5.0</td>\n      <td>5.0</td>\n      <td>2.320000</td>\n      <td>4.0</td>\n    </tr>\n    <tr>\n      <th>3</th>\n      <td>3</td>\n      <td>7</td>\n      <td>8</td>\n      <td>Why am I mentally very lonely? How can I solve...</td>\n      <td>Find the remainder when [math]23^{24}[/math] i...</td>\n      <td>0</td>\n      <td>[mental, lone, solv]</td>\n      <td>[find, remaind, math, math, divid]</td>\n      <td>0.976941</td>\n      <td>-2.259914</td>\n      <td>...</td>\n      <td>4.666667</td>\n      <td>3.0</td>\n      <td>3.0</td>\n      <td>1.600000</td>\n      <td>3.0</td>\n      <td>4.800000</td>\n      <td>5.0</td>\n      <td>5.0</td>\n      <td>2.400000</td>\n      <td>5.0</td>\n    </tr>\n    <tr>\n      <th>4</th>\n      <td>4</td>\n      <td>9</td>\n      <td>10</td>\n      <td>Which one dissolve in water quikly sugar, salt...</td>\n      <td>Which fish would survive in salt water?</td>\n      <td>0</td>\n      <td>[one, dissolv, water, quikli, sugar, salt, met...</td>\n      <td>[fish, would, surviv, salt, water]</td>\n      <td>0.216572</td>\n      <td>-0.344723</td>\n      <td>...</td>\n      <td>4.800000</td>\n      <td>10.0</td>\n      <td>10.0</td>\n      <td>4.320000</td>\n      <td>8.0</td>\n      <td>4.800000</td>\n      <td>5.0</td>\n      <td>5.0</td>\n      <td>2.400000</td>\n      <td>5.0</td>\n    </tr>\n    <tr>\n      <th>...</th>\n      <td>...</td>\n      <td>...</td>\n      <td>...</td>\n      <td>...</td>\n      <td>...</td>\n      <td>...</td>\n      <td>...</td>\n      <td>...</td>\n      <td>...</td>\n      <td>...</td>\n      <td>...</td>\n      <td>...</td>\n      <td>...</td>\n      <td>...</td>\n      <td>...</td>\n      <td>...</td>\n      <td>...</td>\n      <td>...</td>\n      <td>...</td>\n      <td>...</td>\n      <td>...</td>\n    </tr>\n    <tr>\n      <th>404282</th>\n      <td>404285</td>\n      <td>433578</td>\n      <td>379845</td>\n      <td>How many keywords are there in the Racket prog...</td>\n      <td>How many keywords are there in PERL Programmin...</td>\n      <td>0</td>\n      <td>[mani, keyword, racket, program, languag, late...</td>\n      <td>[mani, keyword, perl, program, languag, latest...</td>\n      <td>0.205543</td>\n      <td>1.352938</td>\n      <td>...</td>\n      <td>6.285714</td>\n      <td>7.0</td>\n      <td>7.0</td>\n      <td>3.200000</td>\n      <td>7.0</td>\n      <td>6.000000</td>\n      <td>7.0</td>\n      <td>7.0</td>\n      <td>3.200000</td>\n      <td>7.0</td>\n    </tr>\n    <tr>\n      <th>404283</th>\n      <td>404286</td>\n      <td>18840</td>\n      <td>155606</td>\n      <td>Do you believe there is life after death?</td>\n      <td>Is it true that there is life after death?</td>\n      <td>1</td>\n      <td>[believ, life, death]</td>\n      <td>[true, life, death]</td>\n      <td>2.408487</td>\n      <td>-2.919700</td>\n      <td>...</td>\n      <td>5.000000</td>\n      <td>3.0</td>\n      <td>3.0</td>\n      <td>1.600000</td>\n      <td>3.0</td>\n      <td>4.333333</td>\n      <td>3.0</td>\n      <td>3.0</td>\n      <td>1.600000</td>\n      <td>3.0</td>\n    </tr>\n    <tr>\n      <th>404284</th>\n      <td>404287</td>\n      <td>537928</td>\n      <td>537929</td>\n      <td>What is one coin?</td>\n      <td>What's this coin?</td>\n      <td>0</td>\n      <td>[one, coin]</td>\n      <td>[coin]</td>\n      <td>1.306625</td>\n      <td>-0.745744</td>\n      <td>...</td>\n      <td>3.500000</td>\n      <td>2.0</td>\n      <td>2.0</td>\n      <td>1.000000</td>\n      <td>1.0</td>\n      <td>4.000000</td>\n      <td>1.0</td>\n      <td>1.0</td>\n      <td>0.800000</td>\n      <td>1.0</td>\n    </tr>\n    <tr>\n      <th>404285</th>\n      <td>404288</td>\n      <td>537930</td>\n      <td>537931</td>\n      <td>What is the approx annual cost of living while...</td>\n      <td>I am having little hairfall problem but I want...</td>\n      <td>0</td>\n      <td>[approx, annual, cost, live, studi, uic, chica...</td>\n      <td>[littl, hairfal, problem, want, use, hair, sty...</td>\n      <td>-0.014881</td>\n      <td>-0.115936</td>\n      <td>...</td>\n      <td>5.333333</td>\n      <td>9.0</td>\n      <td>9.0</td>\n      <td>3.955556</td>\n      <td>8.0</td>\n      <td>4.692308</td>\n      <td>13.0</td>\n      <td>13.0</td>\n      <td>5.476923</td>\n      <td>9.0</td>\n    </tr>\n    <tr>\n      <th>404286</th>\n      <td>404289</td>\n      <td>537932</td>\n      <td>537933</td>\n      <td>What is like to have sex with cousin?</td>\n      <td>What is it like to have sex with your cousin?</td>\n      <td>0</td>\n      <td>[like, sex, cousin]</td>\n      <td>[like, sex, cousin]</td>\n      <td>-0.234911</td>\n      <td>-0.378441</td>\n      <td>...</td>\n      <td>4.333333</td>\n      <td>3.0</td>\n      <td>3.0</td>\n      <td>1.466667</td>\n      <td>2.0</td>\n      <td>4.333333</td>\n      <td>3.0</td>\n      <td>3.0</td>\n      <td>1.466667</td>\n      <td>2.0</td>\n    </tr>\n  </tbody>\n</table>\n<p>404287 rows × 78 columns</p>\n</div>"
          },
          "metadata": {}
        }
      ]
    },
    {
      "cell_type": "markdown",
      "source": [
        "## OVERSAMPLING"
      ],
      "metadata": {
        "id": "NJ3cHJseqlOm"
      }
    },
    {
      "cell_type": "code",
      "source": [
        "from imblearn.over_sampling import SMOTE\n",
        "\n",
        "smote = SMOTE(sampling_strategy='auto', random_state=42)\n",
        "xresampled, yresampled = smote.fit_resample(sample_data.iloc[:,8:], sample_data[\"is_duplicate\"])\n",
        "xresampled.shape, yresampled.shape"
      ],
      "metadata": {
        "execution": {
          "iopub.status.busy": "2024-07-13T13:07:36.301493Z",
          "iopub.execute_input": "2024-07-13T13:07:36.301846Z",
          "iopub.status.idle": "2024-07-13T13:09:05.306362Z",
          "shell.execute_reply.started": "2024-07-13T13:07:36.301817Z",
          "shell.execute_reply": "2024-07-13T13:09:05.305251Z"
        },
        "trusted": true,
        "id": "u8P266_kqlOm",
        "outputId": "298c36a7-c588-4dfa-c720-11bbeb426c26"
      },
      "execution_count": null,
      "outputs": [
        {
          "execution_count": 15,
          "output_type": "execute_result",
          "data": {
            "text/plain": "((510048, 70), (510048,))"
          },
          "metadata": {}
        }
      ]
    },
    {
      "cell_type": "markdown",
      "source": [
        "## MODELING"
      ],
      "metadata": {
        "id": "rfpPHEy5qlOm"
      }
    },
    {
      "cell_type": "code",
      "source": [
        "from sklearn.model_selection import train_test_split\n",
        "from sklearn.metrics import confusion_matrix\n",
        "xtrain, xtest, ytrain, ytest = train_test_split(xresampled, yresampled, test_size = 0.2)\n",
        "xtrain.shape, ytrain.shape"
      ],
      "metadata": {
        "execution": {
          "iopub.status.busy": "2024-07-13T13:09:05.308181Z",
          "iopub.execute_input": "2024-07-13T13:09:05.308817Z",
          "iopub.status.idle": "2024-07-13T13:09:06.104943Z",
          "shell.execute_reply.started": "2024-07-13T13:09:05.308780Z",
          "shell.execute_reply": "2024-07-13T13:09:06.103599Z"
        },
        "trusted": true,
        "id": "JhVAmw4ZqlOn",
        "outputId": "597ccefe-98dd-401d-bc2c-a1ceb561d71e"
      },
      "execution_count": null,
      "outputs": [
        {
          "execution_count": 16,
          "output_type": "execute_result",
          "data": {
            "text/plain": "((408038, 70), (408038,))"
          },
          "metadata": {}
        }
      ]
    },
    {
      "cell_type": "code",
      "source": [
        "from sklearn.ensemble import RandomForestClassifier\n",
        "rf_model = RandomForestClassifier()\n",
        "rf_model.fit(xtrain, ytrain)\n",
        "rf_model.score(xtest, ytest)"
      ],
      "metadata": {
        "execution": {
          "iopub.status.busy": "2024-07-13T13:09:06.106654Z",
          "iopub.execute_input": "2024-07-13T13:09:06.107045Z",
          "iopub.status.idle": "2024-07-13T13:23:57.429651Z",
          "shell.execute_reply.started": "2024-07-13T13:09:06.107001Z",
          "shell.execute_reply": "2024-07-13T13:23:57.428358Z"
        },
        "trusted": true,
        "id": "Hwm8l8K6qlOn",
        "outputId": "eb5909bc-42ed-4de2-ccfd-ae5e66a800db"
      },
      "execution_count": null,
      "outputs": [
        {
          "execution_count": 17,
          "output_type": "execute_result",
          "data": {
            "text/plain": "0.8559356925791589"
          },
          "metadata": {}
        }
      ]
    },
    {
      "cell_type": "code",
      "source": [
        "import xgboost as xg\n",
        "xg_model = xg.XGBClassifier()\n",
        "xg_model.fit(xtrain, ytrain)\n",
        "xg_model.score(xtest, ytest)"
      ],
      "metadata": {
        "execution": {
          "iopub.status.busy": "2024-07-13T13:23:57.431003Z",
          "iopub.execute_input": "2024-07-13T13:23:57.431481Z",
          "iopub.status.idle": "2024-07-13T13:28:27.931686Z",
          "shell.execute_reply.started": "2024-07-13T13:23:57.431438Z",
          "shell.execute_reply": "2024-07-13T13:28:27.930825Z"
        },
        "trusted": true,
        "id": "l7DOLMUmqlOn",
        "outputId": "ff0eeb1a-8990-4172-b6e5-c4ced4fc171f"
      },
      "execution_count": null,
      "outputs": [
        {
          "execution_count": 18,
          "output_type": "execute_result",
          "data": {
            "text/plain": "0.8056857170865601"
          },
          "metadata": {}
        }
      ]
    },
    {
      "cell_type": "code",
      "source": [
        "import joblib\n",
        "\n",
        "joblib.dump(rf_model, 'rf_model.joblib')\n",
        "joblib.dump(xg_model, 'xg_model.joblib')"
      ],
      "metadata": {
        "execution": {
          "iopub.status.busy": "2024-07-13T13:28:27.933143Z",
          "iopub.execute_input": "2024-07-13T13:28:27.933784Z",
          "iopub.status.idle": "2024-07-13T13:28:28.718083Z",
          "shell.execute_reply.started": "2024-07-13T13:28:27.933752Z",
          "shell.execute_reply": "2024-07-13T13:28:28.716941Z"
        },
        "trusted": true,
        "id": "AFn20H2gqlOn",
        "outputId": "abce4b80-b4dd-4add-8846-9b6b68f65625"
      },
      "execution_count": null,
      "outputs": [
        {
          "execution_count": 19,
          "output_type": "execute_result",
          "data": {
            "text/plain": "['xg_model.joblib']"
          },
          "metadata": {}
        }
      ]
    },
    {
      "cell_type": "code",
      "source": [
        "loaded_rf_model = joblib.load('/kaggle/working/rf_model.joblib')\n",
        "loaded_xg_model = joblib.load('/kaggle/working/xg_model.joblib')"
      ],
      "metadata": {
        "execution": {
          "iopub.status.busy": "2024-07-13T13:41:46.501730Z",
          "iopub.execute_input": "2024-07-13T13:41:46.502183Z",
          "iopub.status.idle": "2024-07-13T13:41:48.068456Z",
          "shell.execute_reply.started": "2024-07-13T13:41:46.502146Z",
          "shell.execute_reply": "2024-07-13T13:41:48.067500Z"
        },
        "trusted": true,
        "id": "BWAeQDyXqlOq"
      },
      "execution_count": null,
      "outputs": []
    },
    {
      "cell_type": "markdown",
      "source": [
        "## PERFORMANCE ANALYSIS"
      ],
      "metadata": {
        "id": "ZE-hxLpBqlOr"
      }
    },
    {
      "cell_type": "code",
      "source": [
        "from sklearn.metrics import confusion_matrix, classification_report\n",
        "\n",
        "ypred1 = rf_model.predict(xtest)\n",
        "ypred2 = xg_model.predict(xtest)\n",
        "conf_matrix1 = confusion_matrix(ytest, ypred1)\n",
        "conf_matrix2 = confusion_matrix(ytest, ypred2)"
      ],
      "metadata": {
        "execution": {
          "iopub.status.busy": "2024-07-13T13:41:52.549509Z",
          "iopub.execute_input": "2024-07-13T13:41:52.549958Z",
          "iopub.status.idle": "2024-07-13T13:41:59.356727Z",
          "shell.execute_reply.started": "2024-07-13T13:41:52.549911Z",
          "shell.execute_reply": "2024-07-13T13:41:59.355414Z"
        },
        "trusted": true,
        "id": "ytNzWoxYqlOr"
      },
      "execution_count": null,
      "outputs": []
    },
    {
      "cell_type": "code",
      "source": [
        "plt.figure(figsize=(4, 4))\n",
        "sns.heatmap(conf_matrix1, annot=True, fmt='d', cmap='Blues', cbar=False)\n",
        "plt.xlabel('Predicted Labels')\n",
        "plt.ylabel('True Labels')\n",
        "plt.title('RANDOM FOREST')\n",
        "plt.show()"
      ],
      "metadata": {
        "execution": {
          "iopub.status.busy": "2024-07-13T13:41:59.358963Z",
          "iopub.execute_input": "2024-07-13T13:41:59.359375Z",
          "iopub.status.idle": "2024-07-13T13:41:59.560336Z",
          "shell.execute_reply.started": "2024-07-13T13:41:59.359338Z",
          "shell.execute_reply": "2024-07-13T13:41:59.559141Z"
        },
        "trusted": true,
        "id": "P4VCckx0qlOr",
        "outputId": "35b39ba3-98e5-4f90-b59d-2a653e7f14df"
      },
      "execution_count": null,
      "outputs": [
        {
          "output_type": "display_data",
          "data": {
            "text/plain": "<Figure size 400x400 with 1 Axes>",
            "image/png": "[encoded data removed]"
          },
          "metadata": {}
        }
      ]
    },
    {
      "cell_type": "code",
      "source": [
        "plt.figure(figsize=(4, 4))\n",
        "sns.heatmap(conf_matrix2, annot=True, fmt='d', cbar=False)\n",
        "plt.xlabel('Predicted Labels')\n",
        "plt.ylabel('True Labels')\n",
        "plt.title('XG BOOST')\n",
        "plt.show()"
      ],
      "metadata": {
        "execution": {
          "iopub.status.busy": "2024-07-13T13:41:59.561649Z",
          "iopub.execute_input": "2024-07-13T13:41:59.562009Z",
          "iopub.status.idle": "2024-07-13T13:41:59.757842Z",
          "shell.execute_reply.started": "2024-07-13T13:41:59.561974Z",
          "shell.execute_reply": "2024-07-13T13:41:59.756525Z"
        },
        "trusted": true,
        "id": "wYyG6g33qlOs",
        "outputId": "3d1400ec-4f38-4e47-e943-74eec76dd117"
      },
      "execution_count": null,
      "outputs": [
        {
          "output_type": "display_data",
          "data": {
            "text/plain": "<Figure size 400x400 with 1 Axes>",
            "image/png": "[encoded data removed]"
          },
          "metadata": {}
        }
      ]
    },
    {
      "cell_type": "code",
      "source": [
        "class_report1 = pd.DataFrame(classification_report(ytest, ypred1, output_dict = True))\n",
        "class_report2 = pd.DataFrame(classification_report(ytest, ypred2, output_dict = True))\n",
        "class_report1"
      ],
      "metadata": {
        "execution": {
          "iopub.status.busy": "2024-07-13T13:41:59.761194Z",
          "iopub.execute_input": "2024-07-13T13:41:59.761637Z",
          "iopub.status.idle": "2024-07-13T13:42:00.197618Z",
          "shell.execute_reply.started": "2024-07-13T13:41:59.761602Z",
          "shell.execute_reply": "2024-07-13T13:42:00.196369Z"
        },
        "trusted": true,
        "id": "rJ5K46edqlOt",
        "outputId": "58570878-d24e-4137-bbad-c02973bad9b4"
      },
      "execution_count": null,
      "outputs": [
        {
          "execution_count": 25,
          "output_type": "execute_result",
          "data": {
            "text/plain": "                      0             1  accuracy      macro avg   weighted avg\nprecision      0.849085      0.863034  0.855936       0.856059       0.856069\nrecall         0.865287      0.846609  0.855936       0.855948       0.855936\nf1-score       0.857110      0.854742  0.855936       0.855926       0.855924\nsupport    50938.000000  51072.000000  0.855936  102010.000000  102010.000000",
            "text/html": "<div>\n<style scoped>\n    .dataframe tbody tr th:only-of-type {\n        vertical-align: middle;\n    }\n\n    .dataframe tbody tr th {\n        vertical-align: top;\n    }\n\n    .dataframe thead th {\n        text-align: right;\n    }\n</style>\n<table border=\"1\" class=\"dataframe\">\n  <thead>\n    <tr style=\"text-align: right;\">\n      <th></th>\n      <th>0</th>\n      <th>1</th>\n      <th>accuracy</th>\n      <th>macro avg</th>\n      <th>weighted avg</th>\n    </tr>\n  </thead>\n  <tbody>\n    <tr>\n      <th>precision</th>\n      <td>0.849085</td>\n      <td>0.863034</td>\n      <td>0.855936</td>\n      <td>0.856059</td>\n      <td>0.856069</td>\n    </tr>\n    <tr>\n      <th>recall</th>\n      <td>0.865287</td>\n      <td>0.846609</td>\n      <td>0.855936</td>\n      <td>0.855948</td>\n      <td>0.855936</td>\n    </tr>\n    <tr>\n      <th>f1-score</th>\n      <td>0.857110</td>\n      <td>0.854742</td>\n      <td>0.855936</td>\n      <td>0.855926</td>\n      <td>0.855924</td>\n    </tr>\n    <tr>\n      <th>support</th>\n      <td>50938.000000</td>\n      <td>51072.000000</td>\n      <td>0.855936</td>\n      <td>102010.000000</td>\n      <td>102010.000000</td>\n    </tr>\n  </tbody>\n</table>\n</div>"
          },
          "metadata": {}
        }
      ]
    },
    {
      "cell_type": "code",
      "source": [
        "class_report2"
      ],
      "metadata": {
        "execution": {
          "iopub.status.busy": "2024-07-13T13:42:00.198959Z",
          "iopub.execute_input": "2024-07-13T13:42:00.199369Z",
          "iopub.status.idle": "2024-07-13T13:42:00.215387Z",
          "shell.execute_reply.started": "2024-07-13T13:42:00.199332Z",
          "shell.execute_reply": "2024-07-13T13:42:00.213688Z"
        },
        "trusted": true,
        "id": "piBzOjAEqlOt",
        "outputId": "02a19df1-1176-4d7b-c907-aa7c622921a6"
      },
      "execution_count": null,
      "outputs": [
        {
          "execution_count": 26,
          "output_type": "execute_result",
          "data": {
            "text/plain": "                      0             1  accuracy      macro avg   weighted avg\nprecision      0.809108      0.802353  0.805686       0.805730       0.805726\nrecall         0.799482      0.811873  0.805686       0.805678       0.805686\nf1-score       0.804266      0.807085  0.805686       0.805675       0.805677\nsupport    50938.000000  51072.000000  0.805686  102010.000000  102010.000000",
            "text/html": "<div>\n<style scoped>\n    .dataframe tbody tr th:only-of-type {\n        vertical-align: middle;\n    }\n\n    .dataframe tbody tr th {\n        vertical-align: top;\n    }\n\n    .dataframe thead th {\n        text-align: right;\n    }\n</style>\n<table border=\"1\" class=\"dataframe\">\n  <thead>\n    <tr style=\"text-align: right;\">\n      <th></th>\n      <th>0</th>\n      <th>1</th>\n      <th>accuracy</th>\n      <th>macro avg</th>\n      <th>weighted avg</th>\n    </tr>\n  </thead>\n  <tbody>\n    <tr>\n      <th>precision</th>\n      <td>0.809108</td>\n      <td>0.802353</td>\n      <td>0.805686</td>\n      <td>0.805730</td>\n      <td>0.805726</td>\n    </tr>\n    <tr>\n      <th>recall</th>\n      <td>0.799482</td>\n      <td>0.811873</td>\n      <td>0.805686</td>\n      <td>0.805678</td>\n      <td>0.805686</td>\n    </tr>\n    <tr>\n      <th>f1-score</th>\n      <td>0.804266</td>\n      <td>0.807085</td>\n      <td>0.805686</td>\n      <td>0.805675</td>\n      <td>0.805677</td>\n    </tr>\n    <tr>\n      <th>support</th>\n      <td>50938.000000</td>\n      <td>51072.000000</td>\n      <td>0.805686</td>\n      <td>102010.000000</td>\n      <td>102010.000000</td>\n    </tr>\n  </tbody>\n</table>\n</div>"
          },
          "metadata": {}
        }
      ]
    },
    {
      "cell_type": "markdown",
      "source": [
        "## SAMPLE INFERENCE"
      ],
      "metadata": {
        "id": "NwVPjWO4qlOu"
      }
    },
    {
      "cell_type": "markdown",
      "source": [
        "### SINGLE PREDICTION"
      ],
      "metadata": {
        "id": "XLHQLxO9qlOu"
      }
    },
    {
      "cell_type": "code",
      "source": [
        "# sample1 = 'What are some common examples of solid matter?'\n",
        "# sample2 = 'What are the most common examples of solid matter?'\n",
        "\n",
        "l = 13242\n",
        "sample1 = data[\"question1\"][l]\n",
        "sample2 = data[\"question2\"][l]\n",
        "sample1, sample2, data[\"is_duplicate\"][l]"
      ],
      "metadata": {
        "execution": {
          "iopub.status.busy": "2024-07-13T13:42:00.216883Z",
          "iopub.execute_input": "2024-07-13T13:42:00.217278Z",
          "iopub.status.idle": "2024-07-13T13:42:00.250504Z",
          "shell.execute_reply.started": "2024-07-13T13:42:00.217222Z",
          "shell.execute_reply": "2024-07-13T13:42:00.249150Z"
        },
        "trusted": true,
        "id": "D1C8njPPqlOu",
        "outputId": "14a80cdc-88a1-4637-e3d7-060dbd16e724"
      },
      "execution_count": null,
      "outputs": [
        {
          "execution_count": 27,
          "output_type": "execute_result",
          "data": {
            "text/plain": "('What are some notable examples of Freudian slips?',\n 'Is the Freudian approach to the human condition valid?',\n 0)"
          },
          "metadata": {}
        }
      ]
    },
    {
      "cell_type": "code",
      "source": [
        "def inference(sample1, sample2):\n",
        "    inf_text1 = process_word_list(sample1.split())\n",
        "    inf_text2 = process_word_list(sample2.split())\n",
        "\n",
        "    inf_vec1 = np.zeros((1, 30))\n",
        "    inf_vec2 = np.zeros((1, 30))\n",
        "    inf_other_features = np.zeros((1, 10))\n",
        "\n",
        "    if len(inf_text1) != 0:\n",
        "        inf_vec1[0] = (sum([word2vec_model.wv[word] for word in inf_text1 if word in word2vec_model.wv.index_to_key]) / len(inf_text1))\n",
        "        inf_blob1 = text_analysis(inf_text1)\n",
        "    else:\n",
        "        inf_vec1[0] = np.zeros((30,))\n",
        "        inf_blob1 = np.zeros((5,))\n",
        "    if len(inf_text2) != 0:\n",
        "        inf_vec2[0] = (sum([word2vec_model.wv[word] for word in inf_text2 if word in word2vec_model.wv.index_to_key]) / len(inf_text2))\n",
        "        inf_blob2 = text_analysis(inf_text2)\n",
        "    else:\n",
        "        inf_vec2[0] = np.zeros((30,))\n",
        "        inf_blob2 = np.zeros((5,))\n",
        "    inf_other_features[0] = np.concatenate([inf_blob1, inf_blob2])\n",
        "\n",
        "    inf_data = pd.DataFrame({})\n",
        "    inf_data = pd.concat([inf_data,\n",
        "                            pd.DataFrame(inf_vec1, columns = np.arange(0, 30)),\n",
        "                            pd.DataFrame(inf_vec2, columns = np.arange(30, 60)),\n",
        "                            pd.DataFrame(inf_other_features, columns = np.arange(60, 70))], axis = 1)\n",
        "    return inf_data\n",
        "\n",
        "inf_data = inference(sample1, sample2)\n",
        "inf_data"
      ],
      "metadata": {
        "execution": {
          "iopub.status.busy": "2024-07-13T13:42:00.251846Z",
          "iopub.execute_input": "2024-07-13T13:42:00.252198Z",
          "iopub.status.idle": "2024-07-13T13:42:00.307873Z",
          "shell.execute_reply.started": "2024-07-13T13:42:00.252166Z",
          "shell.execute_reply": "2024-07-13T13:42:00.306653Z"
        },
        "trusted": true,
        "id": "-JegbRnPqlOu",
        "outputId": "ef7541e2-a609-4b48-e734-2c8f6b745437"
      },
      "execution_count": null,
      "outputs": [
        {
          "execution_count": 28,
          "output_type": "execute_result",
          "data": {
            "text/plain": "        0         1       2         3        4        5         6         7   \\\n0  0.32874 -0.326298 -0.5386 -0.195656 -0.05017  0.20025  0.614054 -0.194912   \n\n         8         9   ...   60   61   62   63   64   65   66   67   68   69  \n0 -0.672896  0.314957  ...  6.5  4.0  4.0  2.0  4.0  6.6  5.0  5.0  2.4  5.0  \n\n[1 rows x 70 columns]",
            "text/html": "<div>\n<style scoped>\n    .dataframe tbody tr th:only-of-type {\n        vertical-align: middle;\n    }\n\n    .dataframe tbody tr th {\n        vertical-align: top;\n    }\n\n    .dataframe thead th {\n        text-align: right;\n    }\n</style>\n<table border=\"1\" class=\"dataframe\">\n  <thead>\n    <tr style=\"text-align: right;\">\n      <th></th>\n      <th>0</th>\n      <th>1</th>\n      <th>2</th>\n      <th>3</th>\n      <th>4</th>\n      <th>5</th>\n      <th>6</th>\n      <th>7</th>\n      <th>8</th>\n      <th>9</th>\n      <th>...</th>\n      <th>60</th>\n      <th>61</th>\n      <th>62</th>\n      <th>63</th>\n      <th>64</th>\n      <th>65</th>\n      <th>66</th>\n      <th>67</th>\n      <th>68</th>\n      <th>69</th>\n    </tr>\n  </thead>\n  <tbody>\n    <tr>\n      <th>0</th>\n      <td>0.32874</td>\n      <td>-0.326298</td>\n      <td>-0.5386</td>\n      <td>-0.195656</td>\n      <td>-0.05017</td>\n      <td>0.20025</td>\n      <td>0.614054</td>\n      <td>-0.194912</td>\n      <td>-0.672896</td>\n      <td>0.314957</td>\n      <td>...</td>\n      <td>6.5</td>\n      <td>4.0</td>\n      <td>4.0</td>\n      <td>2.0</td>\n      <td>4.0</td>\n      <td>6.6</td>\n      <td>5.0</td>\n      <td>5.0</td>\n      <td>2.4</td>\n      <td>5.0</td>\n    </tr>\n  </tbody>\n</table>\n<p>1 rows × 70 columns</p>\n</div>"
          },
          "metadata": {}
        }
      ]
    },
    {
      "cell_type": "code",
      "source": [
        "out = rf_model.predict(inf_data)\n",
        "\n",
        "if out == 0:\n",
        "    print(\"DIFFERENT\")\n",
        "else:\n",
        "    print(\"DUPLICATE\")"
      ],
      "metadata": {
        "execution": {
          "iopub.status.busy": "2024-07-13T13:42:00.309503Z",
          "iopub.execute_input": "2024-07-13T13:42:00.309960Z",
          "iopub.status.idle": "2024-07-13T13:42:00.333121Z",
          "shell.execute_reply.started": "2024-07-13T13:42:00.309914Z",
          "shell.execute_reply": "2024-07-13T13:42:00.331823Z"
        },
        "trusted": true,
        "id": "glRRAOl3qlOv",
        "outputId": "f2bfe87b-5ac6-4da3-991f-db54f06d125c"
      },
      "execution_count": null,
      "outputs": [
        {
          "name": "stdout",
          "text": "DIFFERENT\n",
          "output_type": "stream"
        }
      ]
    },
    {
      "cell_type": "markdown",
      "source": [
        "### PREDICTION ON SAMPLE DATA"
      ],
      "metadata": {
        "id": "nVrE-pHvqlO2"
      }
    },
    {
      "cell_type": "code",
      "source": [
        "sam = data.sample(10).iloc[:,3:6]\n",
        "sam.reset_index(inplace = True, drop = True)\n",
        "sam"
      ],
      "metadata": {
        "execution": {
          "iopub.status.busy": "2024-07-13T13:42:00.334863Z",
          "iopub.execute_input": "2024-07-13T13:42:00.335254Z",
          "iopub.status.idle": "2024-07-13T13:42:00.366500Z",
          "shell.execute_reply.started": "2024-07-13T13:42:00.335206Z",
          "shell.execute_reply": "2024-07-13T13:42:00.364841Z"
        },
        "trusted": true,
        "id": "YPVUP90WqlO2",
        "outputId": "2a5f3663-65e9-42e6-a5ca-d3969b1e81ac"
      },
      "execution_count": null,
      "outputs": [
        {
          "execution_count": 30,
          "output_type": "execute_result",
          "data": {
            "text/plain": "                                           question1  \\\n0                             What is corporate SIM?   \n1  What are the steps to get the UAN number for m...   \n2  What is difference between App (Application) a...   \n3  What are some signs that someone is trustworth...   \n4  Should I buy a laptop with AMD A10-8700P or In...   \n5  What is the purpose of introducing the 2000 no...   \n6  Why has Google fallen behind in self driving c...   \n7  Even if god does exist why should anyone worsh...   \n8  I worked in .net 6+ yrs n now I shifted to Bus...   \n9  Are there any people living in india who have ...   \n\n                                           question2  is_duplicate  \n0                          How does a SIM card work?             0  \n1                      How do I check my UAN number?             0  \n2  What is the difference between a software and ...             1  \n3  What are some signs that someone is not trustw...             1  \n4  Can a Windows 10 ,64 bit laptop with i5 6 th g...             0  \n5  Why did RBI choose to come out with a ₹2000 no...             0  \n6  Who is ahead in the race to sell self-driving ...             0  \n7  Why does Almighty God need people to worship him?             1  \n8        What would be the expense for MS in Canada?             0  \n9  Has anybody visited all the countries in the w...             1  ",
            "text/html": "<div>\n<style scoped>\n    .dataframe tbody tr th:only-of-type {\n        vertical-align: middle;\n    }\n\n    .dataframe tbody tr th {\n        vertical-align: top;\n    }\n\n    .dataframe thead th {\n        text-align: right;\n    }\n</style>\n<table border=\"1\" class=\"dataframe\">\n  <thead>\n    <tr style=\"text-align: right;\">\n      <th></th>\n      <th>question1</th>\n      <th>question2</th>\n      <th>is_duplicate</th>\n    </tr>\n  </thead>\n  <tbody>\n    <tr>\n      <th>0</th>\n      <td>What is corporate SIM?</td>\n      <td>How does a SIM card work?</td>\n      <td>0</td>\n    </tr>\n    <tr>\n      <th>1</th>\n      <td>What are the steps to get the UAN number for m...</td>\n      <td>How do I check my UAN number?</td>\n      <td>0</td>\n    </tr>\n    <tr>\n      <th>2</th>\n      <td>What is difference between App (Application) a...</td>\n      <td>What is the difference between a software and ...</td>\n      <td>1</td>\n    </tr>\n    <tr>\n      <th>3</th>\n      <td>What are some signs that someone is trustworth...</td>\n      <td>What are some signs that someone is not trustw...</td>\n      <td>1</td>\n    </tr>\n    <tr>\n      <th>4</th>\n      <td>Should I buy a laptop with AMD A10-8700P or In...</td>\n      <td>Can a Windows 10 ,64 bit laptop with i5 6 th g...</td>\n      <td>0</td>\n    </tr>\n    <tr>\n      <th>5</th>\n      <td>What is the purpose of introducing the 2000 no...</td>\n      <td>Why did RBI choose to come out with a ₹2000 no...</td>\n      <td>0</td>\n    </tr>\n    <tr>\n      <th>6</th>\n      <td>Why has Google fallen behind in self driving c...</td>\n      <td>Who is ahead in the race to sell self-driving ...</td>\n      <td>0</td>\n    </tr>\n    <tr>\n      <th>7</th>\n      <td>Even if god does exist why should anyone worsh...</td>\n      <td>Why does Almighty God need people to worship him?</td>\n      <td>1</td>\n    </tr>\n    <tr>\n      <th>8</th>\n      <td>I worked in .net 6+ yrs n now I shifted to Bus...</td>\n      <td>What would be the expense for MS in Canada?</td>\n      <td>0</td>\n    </tr>\n    <tr>\n      <th>9</th>\n      <td>Are there any people living in india who have ...</td>\n      <td>Has anybody visited all the countries in the w...</td>\n      <td>1</td>\n    </tr>\n  </tbody>\n</table>\n</div>"
          },
          "metadata": {}
        }
      ]
    },
    {
      "cell_type": "code",
      "source": [
        "outs = []\n",
        "for k in range(len(sam)):\n",
        "    sample1 = sam[\"question1\"][k]\n",
        "    sample2 = sam[\"question2\"][k]\n",
        "    inf_data = inference(sample1, sample2)\n",
        "    outs.append(rf_model.predict(inf_data)[0])\n",
        "sam[\"Predictions\"] = outs\n",
        "sam"
      ],
      "metadata": {
        "execution": {
          "iopub.status.busy": "2024-07-13T13:42:00.370918Z",
          "iopub.execute_input": "2024-07-13T13:42:00.371367Z",
          "iopub.status.idle": "2024-07-13T13:42:00.687361Z",
          "shell.execute_reply.started": "2024-07-13T13:42:00.371322Z",
          "shell.execute_reply": "2024-07-13T13:42:00.686154Z"
        },
        "trusted": true,
        "id": "hG2Q63QxqlO3",
        "outputId": "7cc197f3-67a5-4464-c995-27e25351cf1f"
      },
      "execution_count": null,
      "outputs": [
        {
          "execution_count": 31,
          "output_type": "execute_result",
          "data": {
            "text/plain": "                                           question1  \\\n0                             What is corporate SIM?   \n1  What are the steps to get the UAN number for m...   \n2  What is difference between App (Application) a...   \n3  What are some signs that someone is trustworth...   \n4  Should I buy a laptop with AMD A10-8700P or In...   \n5  What is the purpose of introducing the 2000 no...   \n6  Why has Google fallen behind in self driving c...   \n7  Even if god does exist why should anyone worsh...   \n8  I worked in .net 6+ yrs n now I shifted to Bus...   \n9  Are there any people living in india who have ...   \n\n                                           question2  is_duplicate  \\\n0                          How does a SIM card work?             0   \n1                      How do I check my UAN number?             0   \n2  What is the difference between a software and ...             1   \n3  What are some signs that someone is not trustw...             1   \n4  Can a Windows 10 ,64 bit laptop with i5 6 th g...             0   \n5  Why did RBI choose to come out with a ₹2000 no...             0   \n6  Who is ahead in the race to sell self-driving ...             0   \n7  Why does Almighty God need people to worship him?             1   \n8        What would be the expense for MS in Canada?             0   \n9  Has anybody visited all the countries in the w...             1   \n\n   Predictions  \n0            0  \n1            0  \n2            0  \n3            1  \n4            0  \n5            0  \n6            0  \n7            1  \n8            0  \n9            0  ",
            "text/html": "<div>\n<style scoped>\n    .dataframe tbody tr th:only-of-type {\n        vertical-align: middle;\n    }\n\n    .dataframe tbody tr th {\n        vertical-align: top;\n    }\n\n    .dataframe thead th {\n        text-align: right;\n    }\n</style>\n<table border=\"1\" class=\"dataframe\">\n  <thead>\n    <tr style=\"text-align: right;\">\n      <th></th>\n      <th>question1</th>\n      <th>question2</th>\n      <th>is_duplicate</th>\n      <th>Predictions</th>\n    </tr>\n  </thead>\n  <tbody>\n    <tr>\n      <th>0</th>\n      <td>What is corporate SIM?</td>\n      <td>How does a SIM card work?</td>\n      <td>0</td>\n      <td>0</td>\n    </tr>\n    <tr>\n      <th>1</th>\n      <td>What are the steps to get the UAN number for m...</td>\n      <td>How do I check my UAN number?</td>\n      <td>0</td>\n      <td>0</td>\n    </tr>\n    <tr>\n      <th>2</th>\n      <td>What is difference between App (Application) a...</td>\n      <td>What is the difference between a software and ...</td>\n      <td>1</td>\n      <td>0</td>\n    </tr>\n    <tr>\n      <th>3</th>\n      <td>What are some signs that someone is trustworth...</td>\n      <td>What are some signs that someone is not trustw...</td>\n      <td>1</td>\n      <td>1</td>\n    </tr>\n    <tr>\n      <th>4</th>\n      <td>Should I buy a laptop with AMD A10-8700P or In...</td>\n      <td>Can a Windows 10 ,64 bit laptop with i5 6 th g...</td>\n      <td>0</td>\n      <td>0</td>\n    </tr>\n    <tr>\n      <th>5</th>\n      <td>What is the purpose of introducing the 2000 no...</td>\n      <td>Why did RBI choose to come out with a ₹2000 no...</td>\n      <td>0</td>\n      <td>0</td>\n    </tr>\n    <tr>\n      <th>6</th>\n      <td>Why has Google fallen behind in self driving c...</td>\n      <td>Who is ahead in the race to sell self-driving ...</td>\n      <td>0</td>\n      <td>0</td>\n    </tr>\n    <tr>\n      <th>7</th>\n      <td>Even if god does exist why should anyone worsh...</td>\n      <td>Why does Almighty God need people to worship him?</td>\n      <td>1</td>\n      <td>1</td>\n    </tr>\n    <tr>\n      <th>8</th>\n      <td>I worked in .net 6+ yrs n now I shifted to Bus...</td>\n      <td>What would be the expense for MS in Canada?</td>\n      <td>0</td>\n      <td>0</td>\n    </tr>\n    <tr>\n      <th>9</th>\n      <td>Are there any people living in india who have ...</td>\n      <td>Has anybody visited all the countries in the w...</td>\n      <td>1</td>\n      <td>0</td>\n    </tr>\n  </tbody>\n</table>\n</div>"
          },
          "metadata": {}
        }
      ]
    },
    {
      "cell_type": "markdown",
      "source": [
        "### PREDICTION ON TEST SET"
      ],
      "metadata": {
        "id": "UHZTzazBqlO3"
      }
    },
    {
      "cell_type": "code",
      "source": [
        "# test_data = pd.read_csv(\"/kaggle/input/quora-question-pairs/test.csv\")\n",
        "# sample = pd.read_csv(\"/kaggle/working/sample_submission.csv\")\n",
        "# test_data"
      ],
      "metadata": {
        "execution": {
          "iopub.status.busy": "2024-07-13T13:42:00.688860Z",
          "iopub.execute_input": "2024-07-13T13:42:00.689309Z",
          "iopub.status.idle": "2024-07-13T13:42:00.694636Z",
          "shell.execute_reply.started": "2024-07-13T13:42:00.689274Z",
          "shell.execute_reply": "2024-07-13T13:42:00.693328Z"
        },
        "trusted": true,
        "id": "dTc-hPBBqlO4"
      },
      "execution_count": null,
      "outputs": []
    },
    {
      "cell_type": "code",
      "source": [
        "# outs = []\n",
        "# for k in tqdm(range(len(test_data))):\n",
        "#     sample1 = test_data[\"question1\"][k]\n",
        "#     sample2 = test_data[\"question2\"][k]\n",
        "#     inf_data = inference(sample1, sample2)\n",
        "#     outs.append(rf_model.predict(inf_data)[0])\n",
        "# sample[\"Predictions\"] = outs\n",
        "# sample.drop(\"is_duplicate\", axis = 1)\n",
        "# sample"
      ],
      "metadata": {
        "execution": {
          "iopub.status.busy": "2024-07-13T13:42:00.695990Z",
          "iopub.execute_input": "2024-07-13T13:42:00.696440Z",
          "iopub.status.idle": "2024-07-13T13:42:00.712279Z",
          "shell.execute_reply.started": "2024-07-13T13:42:00.696400Z",
          "shell.execute_reply": "2024-07-13T13:42:00.710783Z"
        },
        "trusted": true,
        "id": "Pm1TSu2LqlO4"
      },
      "execution_count": null,
      "outputs": []
    },
    {
      "cell_type": "markdown",
      "source": [
        "# RNN - DL APPROACH"
      ],
      "metadata": {
        "id": "ipEtOeozqlO4"
      }
    },
    {
      "cell_type": "markdown",
      "source": [
        "## MAKING TOKENIZED SEQUENCES"
      ],
      "metadata": {
        "id": "gpwrjeHeqlO4"
      }
    },
    {
      "cell_type": "code",
      "source": [
        "from imblearn.over_sampling import RandomOverSampler\n",
        "\n",
        "ros = RandomOverSampler(random_state=42)\n",
        "xresampled_dl, yresampled_dl = ros.fit_resample(data.iloc[:,3:5], data[\"is_duplicate\"])\n",
        "xresampled_dl.shape, yresampled_dl.shape"
      ],
      "metadata": {
        "execution": {
          "iopub.status.busy": "2024-07-13T13:42:00.713833Z",
          "iopub.execute_input": "2024-07-13T13:42:00.714220Z",
          "iopub.status.idle": "2024-07-13T13:42:00.973460Z",
          "shell.execute_reply.started": "2024-07-13T13:42:00.714184Z",
          "shell.execute_reply": "2024-07-13T13:42:00.972032Z"
        },
        "trusted": true,
        "id": "dRh46eE1qlO5",
        "outputId": "387f352c-653e-4d9b-fb3f-9d70ff45916d"
      },
      "execution_count": null,
      "outputs": [
        {
          "execution_count": 34,
          "output_type": "execute_result",
          "data": {
            "text/plain": "((510048, 2), (510048,))"
          },
          "metadata": {}
        }
      ]
    },
    {
      "cell_type": "code",
      "source": [
        "que1 = np.array(xresampled_dl['question1'].tolist())\n",
        "que2 = np.array(xresampled_dl['question2'].tolist())\n",
        "\n",
        "docx = []\n",
        "for i in tqdm(range(len(que1))):\n",
        "    docx.append(que1[i] + \" \" + que2[i])"
      ],
      "metadata": {
        "execution": {
          "iopub.status.busy": "2024-07-13T13:42:00.975360Z",
          "iopub.execute_input": "2024-07-13T13:42:00.975855Z",
          "iopub.status.idle": "2024-07-13T13:42:09.683517Z",
          "shell.execute_reply.started": "2024-07-13T13:42:00.975810Z",
          "shell.execute_reply": "2024-07-13T13:42:09.682345Z"
        },
        "trusted": true,
        "id": "fospI988qlO5",
        "outputId": "f57b7c7c-597f-4a4d-eaba-e5504f707c7d"
      },
      "execution_count": null,
      "outputs": [
        {
          "name": "stderr",
          "text": "100%|██████████| 510048/510048 [00:04<00:00, 110479.33it/s]\n",
          "output_type": "stream"
        }
      ]
    },
    {
      "cell_type": "code",
      "source": [
        "lengths = []\n",
        "for sent in tqdm(docx):\n",
        "    lengths.append(len(sent.split()))"
      ],
      "metadata": {
        "execution": {
          "iopub.status.busy": "2024-07-13T13:42:09.685023Z",
          "iopub.execute_input": "2024-07-13T13:42:09.685411Z",
          "iopub.status.idle": "2024-07-13T13:42:11.017560Z",
          "shell.execute_reply.started": "2024-07-13T13:42:09.685379Z",
          "shell.execute_reply": "2024-07-13T13:42:11.016155Z"
        },
        "trusted": true,
        "id": "CCBTHDSyqlO6",
        "outputId": "ba9baf58-6316-45ab-b10d-14c2dcdadb59"
      },
      "execution_count": null,
      "outputs": [
        {
          "name": "stderr",
          "text": "100%|██████████| 510048/510048 [00:01<00:00, 385729.65it/s]\n",
          "output_type": "stream"
        }
      ]
    },
    {
      "cell_type": "code",
      "source": [
        "sns.kdeplot(lengths) # TO SEE, AROUND WHICH NUMBER THE MOST SENTENCE LENGHTS LIES"
      ],
      "metadata": {
        "execution": {
          "iopub.status.busy": "2024-07-13T13:42:11.019089Z",
          "iopub.execute_input": "2024-07-13T13:42:11.019581Z",
          "iopub.status.idle": "2024-07-13T13:42:14.124410Z",
          "shell.execute_reply.started": "2024-07-13T13:42:11.019536Z",
          "shell.execute_reply": "2024-07-13T13:42:14.123122Z"
        },
        "trusted": true,
        "id": "JRJ0-5_kqlPG",
        "outputId": "4e2ae7d1-74f5-4f05-b78d-326666fdd1d7"
      },
      "execution_count": null,
      "outputs": [
        {
          "execution_count": 37,
          "output_type": "execute_result",
          "data": {
            "text/plain": "<Axes: ylabel='Density'>"
          },
          "metadata": {}
        },
        {
          "output_type": "display_data",
          "data": {
            "text/plain": "<Figure size 640x480 with 1 Axes>",
            "image/png": "[encoded data removed]"
          },
          "metadata": {}
        }
      ]
    },
    {
      "cell_type": "code",
      "source": [
        "from keras.preprocessing.text import Tokenizer\n",
        "from keras.utils import pad_sequences\n",
        "\n",
        "tokenizer = Tokenizer(oov_token = \"<nothing>\")\n",
        "tokenizer.fit_on_texts(docx)\n",
        "sequences = tokenizer.texts_to_sequences(docx)\n",
        "sequences = pad_sequences(sequences, padding = \"post\", maxlen = 35)"
      ],
      "metadata": {
        "execution": {
          "iopub.status.busy": "2024-07-13T13:42:14.126065Z",
          "iopub.execute_input": "2024-07-13T13:42:14.126544Z",
          "iopub.status.idle": "2024-07-13T13:43:00.591762Z",
          "shell.execute_reply.started": "2024-07-13T13:42:14.126501Z",
          "shell.execute_reply": "2024-07-13T13:43:00.590456Z"
        },
        "trusted": true,
        "id": "w6tVQ7PBqlPH"
      },
      "execution_count": null,
      "outputs": []
    },
    {
      "cell_type": "markdown",
      "source": [
        "## MODEL ARCHITECTURE"
      ],
      "metadata": {
        "id": "uu9j2j9zqlPH"
      }
    },
    {
      "cell_type": "code",
      "source": [
        "import tensorflow as tf\n",
        "model = tf.keras.Sequential()\n",
        "model.add(tf.keras.layers.Embedding(sequences.max()+1, output_dim = 30, input_length = 35))\n",
        "model.add(tf.keras.layers.SimpleRNN(32, return_sequences = False))\n",
        "model.add(tf.keras.layers.Dense(1, activation = \"sigmoid\"))\n",
        "model.summary()"
      ],
      "metadata": {
        "execution": {
          "iopub.status.busy": "2024-07-13T13:43:00.593191Z",
          "iopub.execute_input": "2024-07-13T13:43:00.594114Z",
          "iopub.status.idle": "2024-07-13T13:43:01.574515Z",
          "shell.execute_reply.started": "2024-07-13T13:43:00.594074Z",
          "shell.execute_reply": "2024-07-13T13:43:01.573335Z"
        },
        "trusted": true,
        "id": "1uEuQiClqlPH",
        "outputId": "c90f864d-07bf-4abd-f27d-ccb6003c321d"
      },
      "execution_count": null,
      "outputs": [
        {
          "name": "stdout",
          "text": "Model: \"sequential\"\n_________________________________________________________________\n Layer (type)                Output Shape              Param #   \n=================================================================\n embedding (Embedding)       (None, 35, 30)            2867910   \n                                                                 \n simple_rnn (SimpleRNN)      (None, 32)                2016      \n                                                                 \n dense (Dense)               (None, 1)                 33        \n                                                                 \n=================================================================\nTotal params: 2,869,959\nTrainable params: 2,869,959\nNon-trainable params: 0\n_________________________________________________________________\n",
          "output_type": "stream"
        }
      ]
    },
    {
      "cell_type": "code",
      "source": [
        "model.compile(loss = \"binary_crossentropy\", optimizer = \"adam\", metrics =[\"accuracy\"])\n",
        "history = model.fit(sequences, yresampled_dl,\n",
        "         epochs = 20, batch_size = 1000,\n",
        "         validation_split = 0.2)"
      ],
      "metadata": {
        "execution": {
          "iopub.status.busy": "2024-07-13T13:43:01.576144Z",
          "iopub.execute_input": "2024-07-13T13:43:01.576621Z",
          "iopub.status.idle": "2024-07-13T13:49:24.176824Z",
          "shell.execute_reply.started": "2024-07-13T13:43:01.576578Z",
          "shell.execute_reply": "2024-07-13T13:49:24.175415Z"
        },
        "trusted": true,
        "id": "xRpxS2OmqlPI",
        "outputId": "00ea1ff0-ec28-46e4-c4f8-6d89556025e7"
      },
      "execution_count": null,
      "outputs": [
        {
          "name": "stdout",
          "text": "Epoch 1/20\n409/409 [==============================] - 21s 47ms/step - loss: 0.5527 - accuracy: 0.7210 - val_loss: 0.8322 - val_accuracy: 0.4802\nEpoch 2/20\n409/409 [==============================] - 19s 47ms/step - loss: 0.4620 - accuracy: 0.7830 - val_loss: 0.5281 - val_accuracy: 0.7403\nEpoch 3/20\n409/409 [==============================] - 19s 47ms/step - loss: 0.3895 - accuracy: 0.8216 - val_loss: 0.3269 - val_accuracy: 0.8828\nEpoch 4/20\n409/409 [==============================] - 19s 46ms/step - loss: 0.3345 - accuracy: 0.8501 - val_loss: 0.3009 - val_accuracy: 0.8883\nEpoch 5/20\n409/409 [==============================] - 19s 46ms/step - loss: 0.2925 - accuracy: 0.8704 - val_loss: 0.4398 - val_accuracy: 0.7870\nEpoch 6/20\n409/409 [==============================] - 19s 45ms/step - loss: 0.2598 - accuracy: 0.8865 - val_loss: 0.2382 - val_accuracy: 0.9185\nEpoch 7/20\n409/409 [==============================] - 19s 48ms/step - loss: 0.2308 - accuracy: 0.9005 - val_loss: 0.1971 - val_accuracy: 0.9319\nEpoch 8/20\n409/409 [==============================] - 19s 47ms/step - loss: 0.2082 - accuracy: 0.9110 - val_loss: 0.2785 - val_accuracy: 0.8798\nEpoch 9/20\n409/409 [==============================] - 19s 46ms/step - loss: 0.1891 - accuracy: 0.9199 - val_loss: 0.1128 - val_accuracy: 0.9717\nEpoch 10/20\n409/409 [==============================] - 20s 48ms/step - loss: 0.1725 - accuracy: 0.9276 - val_loss: 0.1381 - val_accuracy: 0.9574\nEpoch 11/20\n409/409 [==============================] - 19s 45ms/step - loss: 0.1569 - accuracy: 0.9345 - val_loss: 0.1214 - val_accuracy: 0.9629\nEpoch 12/20\n409/409 [==============================] - 19s 47ms/step - loss: 0.1450 - accuracy: 0.9397 - val_loss: 0.2087 - val_accuracy: 0.9092\nEpoch 13/20\n409/409 [==============================] - 19s 48ms/step - loss: 0.1354 - accuracy: 0.9437 - val_loss: 0.1346 - val_accuracy: 0.9499\nEpoch 14/20\n409/409 [==============================] - 19s 46ms/step - loss: 0.1247 - accuracy: 0.9487 - val_loss: 0.0990 - val_accuracy: 0.9719\nEpoch 15/20\n409/409 [==============================] - 19s 46ms/step - loss: 0.1184 - accuracy: 0.9514 - val_loss: 0.1614 - val_accuracy: 0.9350\nEpoch 16/20\n409/409 [==============================] - 19s 45ms/step - loss: 0.1096 - accuracy: 0.9555 - val_loss: 0.0681 - val_accuracy: 0.9808\nEpoch 17/20\n409/409 [==============================] - 19s 46ms/step - loss: 0.1034 - accuracy: 0.9578 - val_loss: 0.0806 - val_accuracy: 0.9747\nEpoch 18/20\n409/409 [==============================] - 19s 46ms/step - loss: 0.0984 - accuracy: 0.9599 - val_loss: 0.1065 - val_accuracy: 0.9626\nEpoch 19/20\n409/409 [==============================] - 20s 49ms/step - loss: 0.0939 - accuracy: 0.9619 - val_loss: 0.1482 - val_accuracy: 0.9380\nEpoch 20/20\n409/409 [==============================] - 19s 46ms/step - loss: 0.0887 - accuracy: 0.9639 - val_loss: 0.0976 - val_accuracy: 0.9635\n",
          "output_type": "stream"
        }
      ]
    },
    {
      "cell_type": "code",
      "source": [
        "import tensorflow as tf\n",
        "from tensorflow.keras.models import Sequential\n",
        "from tensorflow.keras.layers import Embedding, Bidirectional, LSTM, Dense, Dropout\n",
        "\n",
        "max_seq_length = 35\n",
        "vocab_size = sequences.max() + 1\n",
        "\n",
        "lstm_model = Sequential()\n",
        "lstm_model.add(Embedding(input_dim=vocab_size, output_dim=100, input_length=max_seq_length))\n",
        "lstm_model.add(Bidirectional(LSTM(64, return_sequences=True)))\n",
        "lstm_model.add(Dropout(0.2))\n",
        "lstm_model.add(Dense(1, activation=\"sigmoid\"))\n",
        "lstm_model.compile(loss=\"binary_crossentropy\", optimizer=\"adam\", metrics=[\"accuracy\"])\n",
        "lstm_model.summary()"
      ],
      "metadata": {
        "execution": {
          "iopub.status.busy": "2024-07-13T13:49:24.178642Z",
          "iopub.execute_input": "2024-07-13T13:49:24.179086Z",
          "iopub.status.idle": "2024-07-13T13:49:24.992065Z",
          "shell.execute_reply.started": "2024-07-13T13:49:24.179049Z",
          "shell.execute_reply": "2024-07-13T13:49:24.990767Z"
        },
        "trusted": true,
        "id": "fkmQfWWcqlPI",
        "outputId": "55d37157-7a04-4306-d3c7-4ac569dc06a0"
      },
      "execution_count": null,
      "outputs": [
        {
          "name": "stdout",
          "text": "Model: \"sequential_1\"\n_________________________________________________________________\n Layer (type)                Output Shape              Param #   \n=================================================================\n embedding_1 (Embedding)     (None, 35, 100)           9559700   \n                                                                 \n bidirectional (Bidirectiona  (None, 35, 128)          84480     \n l)                                                              \n                                                                 \n dropout (Dropout)           (None, 35, 128)           0         \n                                                                 \n dense_1 (Dense)             (None, 35, 1)             129       \n                                                                 \n=================================================================\nTotal params: 9,644,309\nTrainable params: 9,644,309\nNon-trainable params: 0\n_________________________________________________________________\n",
          "output_type": "stream"
        }
      ]
    },
    {
      "cell_type": "code",
      "source": [
        "# Assuming `tokenizer` is your already fitted Tokenizer object\n",
        "num_tokens = len(tokenizer.word_counts)\n",
        "print(\"Number of tokens:\", num_tokens)\n"
      ],
      "metadata": {
        "execution": {
          "iopub.status.busy": "2024-07-13T14:00:01.492864Z",
          "iopub.execute_input": "2024-07-13T14:00:01.493323Z",
          "iopub.status.idle": "2024-07-13T14:00:01.500374Z",
          "shell.execute_reply.started": "2024-07-13T14:00:01.493283Z",
          "shell.execute_reply": "2024-07-13T14:00:01.498830Z"
        },
        "trusted": true,
        "id": "R6RLkkoVqlPJ",
        "outputId": "8792f599-217d-4b9b-9c28-c55aedc7974f"
      },
      "execution_count": null,
      "outputs": [
        {
          "name": "stdout",
          "text": "Number of tokens: 95595\n",
          "output_type": "stream"
        }
      ]
    },
    {
      "cell_type": "code",
      "source": [
        "history2 = lstm_model.fit(sequences, yresampled_dl,\n",
        "         epochs = 20, batch_size = 1000,\n",
        "         validation_split = 0.2)\n"
      ],
      "metadata": {
        "execution": {
          "iopub.status.busy": "2024-07-13T14:00:14.791378Z",
          "iopub.execute_input": "2024-07-13T14:00:14.791818Z",
          "iopub.status.idle": "2024-07-13T15:13:11.799678Z",
          "shell.execute_reply.started": "2024-07-13T14:00:14.791780Z",
          "shell.execute_reply": "2024-07-13T15:13:11.798369Z"
        },
        "trusted": true,
        "id": "uS8d4RdpqlPJ",
        "outputId": "4550ea88-0192-4eaa-db8f-eecf6c7d21a9"
      },
      "execution_count": null,
      "outputs": [
        {
          "name": "stdout",
          "text": "Epoch 1/20\n409/409 [==============================] - 225s 549ms/step - loss: 0.3973 - accuracy: 0.8069 - val_loss: 0.4709 - val_accuracy: 0.7681\nEpoch 2/20\n409/409 [==============================] - 216s 529ms/step - loss: 0.3675 - accuracy: 0.8213 - val_loss: 0.4759 - val_accuracy: 0.7528\nEpoch 3/20\n409/409 [==============================] - 220s 537ms/step - loss: 0.3407 - accuracy: 0.8349 - val_loss: 0.4113 - val_accuracy: 0.8142\nEpoch 4/20\n409/409 [==============================] - 217s 530ms/step - loss: 0.3177 - accuracy: 0.8465 - val_loss: 0.4196 - val_accuracy: 0.7881\nEpoch 5/20\n409/409 [==============================] - 217s 530ms/step - loss: 0.2977 - accuracy: 0.8571 - val_loss: 0.3376 - val_accuracy: 0.8632\nEpoch 6/20\n409/409 [==============================] - 225s 550ms/step - loss: 0.2785 - accuracy: 0.8674 - val_loss: 0.4373 - val_accuracy: 0.7709\nEpoch 7/20\n409/409 [==============================] - 223s 545ms/step - loss: 0.2619 - accuracy: 0.8760 - val_loss: 0.2891 - val_accuracy: 0.8796\nEpoch 8/20\n409/409 [==============================] - 216s 529ms/step - loss: 0.2469 - accuracy: 0.8837 - val_loss: 0.2903 - val_accuracy: 0.8742\nEpoch 9/20\n409/409 [==============================] - 220s 538ms/step - loss: 0.2333 - accuracy: 0.8908 - val_loss: 0.2290 - val_accuracy: 0.9188\nEpoch 10/20\n409/409 [==============================] - 216s 529ms/step - loss: 0.2208 - accuracy: 0.8973 - val_loss: 0.2474 - val_accuracy: 0.9031\nEpoch 11/20\n409/409 [==============================] - 216s 528ms/step - loss: 0.2083 - accuracy: 0.9038 - val_loss: 0.2608 - val_accuracy: 0.8864\nEpoch 12/20\n409/409 [==============================] - 220s 538ms/step - loss: 0.1976 - accuracy: 0.9092 - val_loss: 0.2048 - val_accuracy: 0.9297\nEpoch 13/20\n409/409 [==============================] - 218s 533ms/step - loss: 0.1882 - accuracy: 0.9140 - val_loss: 0.2149 - val_accuracy: 0.9252\nEpoch 14/20\n409/409 [==============================] - 218s 533ms/step - loss: 0.1789 - accuracy: 0.9190 - val_loss: 0.1872 - val_accuracy: 0.9274\nEpoch 15/20\n409/409 [==============================] - 223s 544ms/step - loss: 0.1694 - accuracy: 0.9238 - val_loss: 0.1730 - val_accuracy: 0.9352\nEpoch 16/20\n409/409 [==============================] - 217s 531ms/step - loss: 0.1616 - accuracy: 0.9275 - val_loss: 0.2005 - val_accuracy: 0.9238\nEpoch 17/20\n409/409 [==============================] - 219s 536ms/step - loss: 0.1543 - accuracy: 0.9311 - val_loss: 0.2043 - val_accuracy: 0.9198\nEpoch 18/20\n409/409 [==============================] - 216s 529ms/step - loss: 0.1473 - accuracy: 0.9344 - val_loss: 0.1685 - val_accuracy: 0.9395\nEpoch 19/20\n409/409 [==============================] - 217s 530ms/step - loss: 0.1407 - accuracy: 0.9377 - val_loss: 0.1304 - val_accuracy: 0.9588\nEpoch 20/20\n409/409 [==============================] - 219s 535ms/step - loss: 0.1358 - accuracy: 0.9403 - val_loss: 0.1563 - val_accuracy: 0.9453\n",
          "output_type": "stream"
        }
      ]
    },
    {
      "cell_type": "markdown",
      "source": [
        "## INFERENCE"
      ],
      "metadata": {
        "id": "4uSKjKJuqlPJ"
      }
    },
    {
      "cell_type": "code",
      "source": [
        "def inference_dl(sam1, sam2):\n",
        "    docx = [sam1 + \" \" + sam2]\n",
        "    sequences = tokenizer.texts_to_sequences(docx)\n",
        "    sequences = pad_sequences(sequences, padding = \"post\", maxlen = 35)\n",
        "    return sequences"
      ],
      "metadata": {
        "execution": {
          "iopub.status.busy": "2024-07-13T15:14:03.503180Z",
          "iopub.execute_input": "2024-07-13T15:14:03.503652Z",
          "iopub.status.idle": "2024-07-13T15:14:03.510779Z",
          "shell.execute_reply.started": "2024-07-13T15:14:03.503616Z",
          "shell.execute_reply": "2024-07-13T15:14:03.509447Z"
        },
        "trusted": true,
        "id": "pWZSet83qlPJ"
      },
      "execution_count": null,
      "outputs": []
    },
    {
      "cell_type": "code",
      "source": [
        "l = 13243\n",
        "sample1 = data[\"question1\"][l]\n",
        "sample2 = data[\"question2\"][l]\n",
        "sample1, sample2, data[\"is_duplicate\"][l]"
      ],
      "metadata": {
        "execution": {
          "iopub.status.busy": "2024-07-13T15:14:03.768431Z",
          "iopub.execute_input": "2024-07-13T15:14:03.768869Z",
          "iopub.status.idle": "2024-07-13T15:14:03.778903Z",
          "shell.execute_reply.started": "2024-07-13T15:14:03.768834Z",
          "shell.execute_reply": "2024-07-13T15:14:03.777582Z"
        },
        "trusted": true,
        "id": "9DYRpOp8qlPK",
        "outputId": "d3e48972-4063-40d0-e0c4-32cff507f2c4"
      },
      "execution_count": null,
      "outputs": [
        {
          "execution_count": 46,
          "output_type": "execute_result",
          "data": {
            "text/plain": "('Which one is grammatically correct: \"an year\" or \"a year\"?',\n 'The atmosphere seem to be that of a friendly one. Is this phrase grammatically correct?',\n 0)"
          },
          "metadata": {}
        }
      ]
    },
    {
      "cell_type": "code",
      "source": [
        "sample1 = \"Who is the most liked character of all time\"\n",
        "sample2 = 'Which character is the most liked one'"
      ],
      "metadata": {
        "execution": {
          "iopub.status.busy": "2024-07-13T15:14:03.967350Z",
          "iopub.execute_input": "2024-07-13T15:14:03.967782Z",
          "iopub.status.idle": "2024-07-13T15:14:03.973784Z",
          "shell.execute_reply.started": "2024-07-13T15:14:03.967746Z",
          "shell.execute_reply": "2024-07-13T15:14:03.972353Z"
        },
        "trusted": true,
        "id": "XQF4T92DqlPK"
      },
      "execution_count": null,
      "outputs": []
    },
    {
      "cell_type": "code",
      "source": [
        "inf_data = inference_dl(sample1, sample2)\n",
        "out = lstm_model.predict(inf_data, verbose = 0)\n",
        "out = tf.squeeze(out)\n",
        "out = \"DUPLICATE\" if np.mean(out) >= 0.5 else \"DIFFERENT\"\n",
        "out"
      ],
      "metadata": {
        "execution": {
          "iopub.status.busy": "2024-07-13T15:14:04.169374Z",
          "iopub.execute_input": "2024-07-13T15:14:04.169767Z",
          "iopub.status.idle": "2024-07-13T15:14:05.296608Z",
          "shell.execute_reply.started": "2024-07-13T15:14:04.169737Z",
          "shell.execute_reply": "2024-07-13T15:14:05.295416Z"
        },
        "trusted": true,
        "id": "FBjngbaDqlPK",
        "outputId": "67fff217-c998-4add-9860-5e48456fb048"
      },
      "execution_count": null,
      "outputs": [
        {
          "execution_count": 48,
          "output_type": "execute_result",
          "data": {
            "text/plain": "'DUPLICATE'"
          },
          "metadata": {}
        }
      ]
    },
    {
      "cell_type": "code",
      "source": [
        "sam = data.sample(10).iloc[:,3:6]\n",
        "sam.reset_index(inplace = True, drop = True)\n",
        "sam"
      ],
      "metadata": {
        "execution": {
          "iopub.status.busy": "2024-07-13T15:14:05.299478Z",
          "iopub.execute_input": "2024-07-13T15:14:05.299899Z",
          "iopub.status.idle": "2024-07-13T15:14:05.332577Z",
          "shell.execute_reply.started": "2024-07-13T15:14:05.299864Z",
          "shell.execute_reply": "2024-07-13T15:14:05.330997Z"
        },
        "trusted": true,
        "id": "fWB64FuXqlPL",
        "outputId": "ec3495b1-5609-4629-9119-08fafb8ae184"
      },
      "execution_count": null,
      "outputs": [
        {
          "execution_count": 49,
          "output_type": "execute_result",
          "data": {
            "text/plain": "                                           question1  \\\n0  Can I go to the US while working in Infosys or...   \n1                   How imminent is World War three?   \n2  What is the most probable cutoff of KVPY SA 2016?   \n3  Is there any need to join class for spoken Eng...   \n4  What is the best thing to learn in software de...   \n5    What is something that I don't know but you do?   \n6  How is a hedge fund different from a mutual fund?   \n7     What is the best Social Media management tool?   \n8  What is the salary offered to a SDE-I, SDE-II ...   \n9           How can I recover lost data on a Note 3?   \n\n                                           question2  is_duplicate  \n0  Which IT company offers the highest pay to fre...             0  \n1  Do you think we are on the verge of World War ...             1  \n2  How many questions did you attempt and how man...             1  \n3                How can I become fluent in English?             0  \n4  What is the most important thing you learned i...             1  \n5            What is something that you do not know?             0  \n6  What are the differences between a hedge fund ...             1  \n7       What are some social media management tools?             1  \n8  What designation and CTC does flipkart offer i...             0  \n9              How do I recover lost data in laptop?             0  ",
            "text/html": "<div>\n<style scoped>\n    .dataframe tbody tr th:only-of-type {\n        vertical-align: middle;\n    }\n\n    .dataframe tbody tr th {\n        vertical-align: top;\n    }\n\n    .dataframe thead th {\n        text-align: right;\n    }\n</style>\n<table border=\"1\" class=\"dataframe\">\n  <thead>\n    <tr style=\"text-align: right;\">\n      <th></th>\n      <th>question1</th>\n      <th>question2</th>\n      <th>is_duplicate</th>\n    </tr>\n  </thead>\n  <tbody>\n    <tr>\n      <th>0</th>\n      <td>Can I go to the US while working in Infosys or...</td>\n      <td>Which IT company offers the highest pay to fre...</td>\n      <td>0</td>\n    </tr>\n    <tr>\n      <th>1</th>\n      <td>How imminent is World War three?</td>\n      <td>Do you think we are on the verge of World War ...</td>\n      <td>1</td>\n    </tr>\n    <tr>\n      <th>2</th>\n      <td>What is the most probable cutoff of KVPY SA 2016?</td>\n      <td>How many questions did you attempt and how man...</td>\n      <td>1</td>\n    </tr>\n    <tr>\n      <th>3</th>\n      <td>Is there any need to join class for spoken Eng...</td>\n      <td>How can I become fluent in English?</td>\n      <td>0</td>\n    </tr>\n    <tr>\n      <th>4</th>\n      <td>What is the best thing to learn in software de...</td>\n      <td>What is the most important thing you learned i...</td>\n      <td>1</td>\n    </tr>\n    <tr>\n      <th>5</th>\n      <td>What is something that I don't know but you do?</td>\n      <td>What is something that you do not know?</td>\n      <td>0</td>\n    </tr>\n    <tr>\n      <th>6</th>\n      <td>How is a hedge fund different from a mutual fund?</td>\n      <td>What are the differences between a hedge fund ...</td>\n      <td>1</td>\n    </tr>\n    <tr>\n      <th>7</th>\n      <td>What is the best Social Media management tool?</td>\n      <td>What are some social media management tools?</td>\n      <td>1</td>\n    </tr>\n    <tr>\n      <th>8</th>\n      <td>What is the salary offered to a SDE-I, SDE-II ...</td>\n      <td>What designation and CTC does flipkart offer i...</td>\n      <td>0</td>\n    </tr>\n    <tr>\n      <th>9</th>\n      <td>How can I recover lost data on a Note 3?</td>\n      <td>How do I recover lost data in laptop?</td>\n      <td>0</td>\n    </tr>\n  </tbody>\n</table>\n</div>"
          },
          "metadata": {}
        }
      ]
    },
    {
      "cell_type": "code",
      "source": [
        "outs = []\n",
        "for k in range(len(sam)):\n",
        "    sample1 = sam[\"question1\"][k]\n",
        "    sample2 = sam[\"question2\"][k]\n",
        "    inf_data = inference_dl(sample1, sample2)\n",
        "    out = lstm_model.predict(inf_data, verbose = 0)\n",
        "    out = tf.squeeze(out)\n",
        "    out = 1 if np.mean(out) >= 0.5 else 0\n",
        "    outs.append(out)\n",
        "sam[\"Predictions\"] = outs\n",
        "sam"
      ],
      "metadata": {
        "execution": {
          "iopub.status.busy": "2024-07-13T15:14:05.334322Z",
          "iopub.execute_input": "2024-07-13T15:14:05.334698Z",
          "iopub.status.idle": "2024-07-13T15:14:06.103913Z",
          "shell.execute_reply.started": "2024-07-13T15:14:05.334666Z",
          "shell.execute_reply": "2024-07-13T15:14:06.102364Z"
        },
        "trusted": true,
        "id": "ayL7RNUpqlPL",
        "outputId": "da1f7653-fd1f-464f-82bd-3110daf9cf95"
      },
      "execution_count": null,
      "outputs": [
        {
          "execution_count": 50,
          "output_type": "execute_result",
          "data": {
            "text/plain": "                                           question1  \\\n0  Can I go to the US while working in Infosys or...   \n1                   How imminent is World War three?   \n2  What is the most probable cutoff of KVPY SA 2016?   \n3  Is there any need to join class for spoken Eng...   \n4  What is the best thing to learn in software de...   \n5    What is something that I don't know but you do?   \n6  How is a hedge fund different from a mutual fund?   \n7     What is the best Social Media management tool?   \n8  What is the salary offered to a SDE-I, SDE-II ...   \n9           How can I recover lost data on a Note 3?   \n\n                                           question2  is_duplicate  \\\n0  Which IT company offers the highest pay to fre...             0   \n1  Do you think we are on the verge of World War ...             1   \n2  How many questions did you attempt and how man...             1   \n3                How can I become fluent in English?             0   \n4  What is the most important thing you learned i...             1   \n5            What is something that you do not know?             0   \n6  What are the differences between a hedge fund ...             1   \n7       What are some social media management tools?             1   \n8  What designation and CTC does flipkart offer i...             0   \n9              How do I recover lost data in laptop?             0   \n\n   Predictions  \n0            0  \n1            1  \n2            1  \n3            0  \n4            1  \n5            0  \n6            1  \n7            1  \n8            0  \n9            0  ",
            "text/html": "<div>\n<style scoped>\n    .dataframe tbody tr th:only-of-type {\n        vertical-align: middle;\n    }\n\n    .dataframe tbody tr th {\n        vertical-align: top;\n    }\n\n    .dataframe thead th {\n        text-align: right;\n    }\n</style>\n<table border=\"1\" class=\"dataframe\">\n  <thead>\n    <tr style=\"text-align: right;\">\n      <th></th>\n      <th>question1</th>\n      <th>question2</th>\n      <th>is_duplicate</th>\n      <th>Predictions</th>\n    </tr>\n  </thead>\n  <tbody>\n    <tr>\n      <th>0</th>\n      <td>Can I go to the US while working in Infosys or...</td>\n      <td>Which IT company offers the highest pay to fre...</td>\n      <td>0</td>\n      <td>0</td>\n    </tr>\n    <tr>\n      <th>1</th>\n      <td>How imminent is World War three?</td>\n      <td>Do you think we are on the verge of World War ...</td>\n      <td>1</td>\n      <td>1</td>\n    </tr>\n    <tr>\n      <th>2</th>\n      <td>What is the most probable cutoff of KVPY SA 2016?</td>\n      <td>How many questions did you attempt and how man...</td>\n      <td>1</td>\n      <td>1</td>\n    </tr>\n    <tr>\n      <th>3</th>\n      <td>Is there any need to join class for spoken Eng...</td>\n      <td>How can I become fluent in English?</td>\n      <td>0</td>\n      <td>0</td>\n    </tr>\n    <tr>\n      <th>4</th>\n      <td>What is the best thing to learn in software de...</td>\n      <td>What is the most important thing you learned i...</td>\n      <td>1</td>\n      <td>1</td>\n    </tr>\n    <tr>\n      <th>5</th>\n      <td>What is something that I don't know but you do?</td>\n      <td>What is something that you do not know?</td>\n      <td>0</td>\n      <td>0</td>\n    </tr>\n    <tr>\n      <th>6</th>\n      <td>How is a hedge fund different from a mutual fund?</td>\n      <td>What are the differences between a hedge fund ...</td>\n      <td>1</td>\n      <td>1</td>\n    </tr>\n    <tr>\n      <th>7</th>\n      <td>What is the best Social Media management tool?</td>\n      <td>What are some social media management tools?</td>\n      <td>1</td>\n      <td>1</td>\n    </tr>\n    <tr>\n      <th>8</th>\n      <td>What is the salary offered to a SDE-I, SDE-II ...</td>\n      <td>What designation and CTC does flipkart offer i...</td>\n      <td>0</td>\n      <td>0</td>\n    </tr>\n    <tr>\n      <th>9</th>\n      <td>How can I recover lost data on a Note 3?</td>\n      <td>How do I recover lost data in laptop?</td>\n      <td>0</td>\n      <td>0</td>\n    </tr>\n  </tbody>\n</table>\n</div>"
          },
          "metadata": {}
        }
      ]
    },
    {
      "cell_type": "markdown",
      "source": [
        "## TEST SET"
      ],
      "metadata": {
        "id": "ZwaBby8HqlPL"
      }
    },
    {
      "cell_type": "code",
      "source": [
        "# test_data = pd.read_csv(\"/kaggle/input/quora-question-pairs/test.csv\")\n",
        "# sample = pd.read_csv(\"/kaggle/working/sample_submission.csv\")\n",
        "# test_data"
      ],
      "metadata": {
        "execution": {
          "iopub.status.busy": "2024-07-13T15:14:06.272902Z",
          "iopub.execute_input": "2024-07-13T15:14:06.273387Z",
          "iopub.status.idle": "2024-07-13T15:14:06.279228Z",
          "shell.execute_reply.started": "2024-07-13T15:14:06.273348Z",
          "shell.execute_reply": "2024-07-13T15:14:06.277820Z"
        },
        "trusted": true,
        "id": "PAU1iZQrqlPL"
      },
      "execution_count": null,
      "outputs": []
    },
    {
      "cell_type": "code",
      "source": [
        "# outs = []\n",
        "# for k in tqdm(range(len(test_data))):\n",
        "#     sample1 = test_data[\"question1\"][k]\n",
        "#     sample2 = test_data[\"question2\"][k]\n",
        "#     inf_data = inference_dl(sample1, sample2)\n",
        "#     out = lstm_model.predict(inf_data, verbose = 0)\n",
        "#     out = tf.squeeze(out)\n",
        "#     out = 1 if np.mean(out) >= 0.5 else 0\n",
        "# #     if out > 0.5:\n",
        "# #         out = 1\n",
        "# #     else:\n",
        "# #         out = 0\n",
        "#     outs.append(out)\n",
        "# sample[\"Predictions\"] = outs\n",
        "# sample.drop(\"is_duplicate\", axis = 1)\n",
        "# sample"
      ],
      "metadata": {
        "execution": {
          "iopub.status.busy": "2024-07-13T15:14:06.672508Z",
          "iopub.execute_input": "2024-07-13T15:14:06.672931Z",
          "iopub.status.idle": "2024-07-13T15:14:06.679305Z",
          "shell.execute_reply.started": "2024-07-13T15:14:06.672896Z",
          "shell.execute_reply": "2024-07-13T15:14:06.677873Z"
        },
        "trusted": true,
        "id": "5EKohlU4qlPM"
      },
      "execution_count": null,
      "outputs": []
    },
    {
      "cell_type": "code",
      "source": [],
      "metadata": {
        "id": "eMYEP5B5qlPM"
      },
      "execution_count": null,
      "outputs": []
    }
  ]
}